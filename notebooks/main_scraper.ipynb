{
 "cells": [
  {
   "cell_type": "code",
   "execution_count": 8,
   "id": "67c53db6",
   "metadata": {},
   "outputs": [],
   "source": [
    "# ----------------Importing Dependencies------------------\n",
    "import re\n",
    "import pandas as pd"
   ]
  },
  {
   "cell_type": "code",
   "execution_count": 16,
   "id": "39c17c31",
   "metadata": {},
   "outputs": [],
   "source": [
    "# --------- Filtering word, translation, pronunciation and part of speech ----------------\n",
    "def olukumi_data(file):\n",
    "    # Load file\n",
    "    with open(file,'r',encoding='utf-8') as f:\n",
    "        text = f.read()\n",
    "\n",
    "    # Define the pattern\n",
    "    pattern = r\"\"\"\n",
    "        ^([^\\[\\n]+?)\\s*     # Local word (anything before [ )\n",
    "        \\[([^\\]]+)\\]\\s+     # IPA in brackets\n",
    "        ([a-z,\\s]+\\.?)\\s*      # POS like n. v. adj.\n",
    "        (.*?)               # Meaning: anything, including newlines\n",
    "        (?=^[^\\[\\n]+?\\s*\\[|\\Z) # Until next word [IPA] or end\n",
    "    \"\"\"\n",
    "\n",
    "    # Extract matches\n",
    "    return re.findall(pattern, text, re.MULTILINE | re.DOTALL | re.VERBOSE)"
   ]
  },
  {
   "cell_type": "code",
   "execution_count": null,
   "id": "4f3f7127",
   "metadata": {},
   "outputs": [],
   "source": [
    "# Put into a Dataframe\n",
    "matches = olukumi_data(\"../text_files/cleaned_text.txt\")\n",
    "df = pd.DataFrame(matches,columns=['local_word','pronunciation','pos','english_meaning'])"
   ]
  },
  {
   "cell_type": "code",
   "execution_count": 18,
   "id": "c438e68a",
   "metadata": {},
   "outputs": [
    {
     "data": {
      "application/vnd.microsoft.datawrangler.viewer.v0+json": {
       "columns": [
        {
         "name": "index",
         "rawType": "int64",
         "type": "integer"
        },
        {
         "name": "local_word",
         "rawType": "object",
         "type": "string"
        },
        {
         "name": "pronunciation",
         "rawType": "object",
         "type": "string"
        },
        {
         "name": "pos",
         "rawType": "object",
         "type": "string"
        },
        {
         "name": "english_meaning",
         "rawType": "object",
         "type": "string"
        }
       ],
       "ref": "d3ca1ad8-710a-493b-b05d-905ff1eea52b",
       "rows": [
        [
         "0",
         "ababe",
         "ɑbɑbe",
         "n.",
         "poison. \n"
        ],
        [
         "1",
         "ábe  ̣́",
         "ɑ́bɛ́",
         "adv, prep.",
         "below. \n"
        ],
        [
         "2",
         "ábe  ̣́",
         "ɑ́bɛ́",
         "n.",
         "bottom. \n"
        ],
        [
         "3",
         "àbéké",
         "ɑ̀béké",
         "n.",
         "knife. \n"
        ],
        [
         "4",
         "abọrọkpọ",
         "ɑbͻrͻkpͻ",
         "n.",
         "spinning wheel. \n"
        ]
       ],
       "shape": {
        "columns": 4,
        "rows": 5
       }
      },
      "text/html": [
       "<div>\n",
       "<style scoped>\n",
       "    .dataframe tbody tr th:only-of-type {\n",
       "        vertical-align: middle;\n",
       "    }\n",
       "\n",
       "    .dataframe tbody tr th {\n",
       "        vertical-align: top;\n",
       "    }\n",
       "\n",
       "    .dataframe thead th {\n",
       "        text-align: right;\n",
       "    }\n",
       "</style>\n",
       "<table border=\"1\" class=\"dataframe\">\n",
       "  <thead>\n",
       "    <tr style=\"text-align: right;\">\n",
       "      <th></th>\n",
       "      <th>local_word</th>\n",
       "      <th>pronunciation</th>\n",
       "      <th>pos</th>\n",
       "      <th>english_meaning</th>\n",
       "    </tr>\n",
       "  </thead>\n",
       "  <tbody>\n",
       "    <tr>\n",
       "      <th>0</th>\n",
       "      <td>ababe</td>\n",
       "      <td>ɑbɑbe</td>\n",
       "      <td>n.</td>\n",
       "      <td>poison. \\n</td>\n",
       "    </tr>\n",
       "    <tr>\n",
       "      <th>1</th>\n",
       "      <td>ábe  ̣́</td>\n",
       "      <td>ɑ́bɛ́</td>\n",
       "      <td>adv, prep.</td>\n",
       "      <td>below. \\n</td>\n",
       "    </tr>\n",
       "    <tr>\n",
       "      <th>2</th>\n",
       "      <td>ábe  ̣́</td>\n",
       "      <td>ɑ́bɛ́</td>\n",
       "      <td>n.</td>\n",
       "      <td>bottom. \\n</td>\n",
       "    </tr>\n",
       "    <tr>\n",
       "      <th>3</th>\n",
       "      <td>àbéké</td>\n",
       "      <td>ɑ̀béké</td>\n",
       "      <td>n.</td>\n",
       "      <td>knife. \\n</td>\n",
       "    </tr>\n",
       "    <tr>\n",
       "      <th>4</th>\n",
       "      <td>abọrọkpọ</td>\n",
       "      <td>ɑbͻrͻkpͻ</td>\n",
       "      <td>n.</td>\n",
       "      <td>spinning wheel. \\n</td>\n",
       "    </tr>\n",
       "  </tbody>\n",
       "</table>\n",
       "</div>"
      ],
      "text/plain": [
       "    local_word pronunciation         pos     english_meaning\n",
       "0        ababe         ɑbɑbe          n.          poison. \\n\n",
       "1     ábe  ̣́         ɑ́bɛ́  adv, prep.           below. \\n\n",
       "2     ábe  ̣́         ɑ́bɛ́          n.          bottom. \\n\n",
       "3     àbéké      ɑ̀béké          n.           knife. \\n\n",
       "4  abọrọkpọ      ɑbͻrͻkpͻ          n.  spinning wheel. \\n"
      ]
     },
     "execution_count": 18,
     "metadata": {},
     "output_type": "execute_result"
    }
   ],
   "source": [
    "df.head()"
   ]
  },
  {
   "cell_type": "code",
   "execution_count": 19,
   "id": "197083f2",
   "metadata": {},
   "outputs": [
    {
     "name": "stderr",
     "output_type": "stream",
     "text": [
      "<>:3: SyntaxWarning: invalid escape sequence '\\s'\n",
      "<>:3: SyntaxWarning: invalid escape sequence '\\s'\n",
      "C:\\Users\\HP\\AppData\\Local\\Temp\\ipykernel_20888\\157217674.py:3: SyntaxWarning: invalid escape sequence '\\s'\n",
      "  df['english_meaning'] = df['english_meaning'].str.replace('\\n','',regex=False).str.replace('\\s+',' ',regex=True).str.strip().str.rstrip('.')\n"
     ]
    }
   ],
   "source": [
    "# clean up \n",
    "df['local_word'] = df['local_word'].str.strip().str.rstrip(':')\n",
    "df['english_meaning'] = df['english_meaning'].str.replace('\\n','',regex=False).str.replace('\\s+',' ',regex=True).str.strip().str.rstrip('.')\n"
   ]
  },
  {
   "cell_type": "code",
   "execution_count": 20,
   "id": "f9583a86",
   "metadata": {},
   "outputs": [],
   "source": [
    "df = df[['local_word','english_meaning']]"
   ]
  },
  {
   "cell_type": "code",
   "execution_count": 21,
   "id": "49e8bcbb",
   "metadata": {},
   "outputs": [
    {
     "data": {
      "application/vnd.microsoft.datawrangler.viewer.v0+json": {
       "columns": [
        {
         "name": "index",
         "rawType": "int64",
         "type": "integer"
        },
        {
         "name": "local_word",
         "rawType": "object",
         "type": "string"
        },
        {
         "name": "english_meaning",
         "rawType": "object",
         "type": "string"
        }
       ],
       "ref": "65f7f609-2d18-47af-9da4-ad508eb3a9f0",
       "rows": [
        [
         "0",
         "ababe",
         "poison"
        ],
        [
         "1",
         "ábe  ̣́",
         "below"
        ],
        [
         "2",
         "ábe  ̣́",
         "bottom"
        ],
        [
         "3",
         "àbéké",
         "knife"
        ],
        [
         "4",
         "abọrọkpọ",
         "spinning wheel"
        ],
        [
         "5",
         "abo  ̣́wo  ̣́",
         "armpit"
        ],
        [
         "6",
         "àdá",
         "hatchet, sword"
        ],
        [
         "7",
         "adan",
         "bat"
        ],
        [
         "8",
         "adé",
         "crown"
        ],
        [
         "9",
         "adele",
         "house lizard"
        ],
        [
         "10",
         "ade  ̣́n",
         "fried"
        ],
        [
         "11",
         "adidun",
         "stingy"
        ],
        [
         "12",
         "afán",
         "gun"
        ],
        [
         "13",
         "afo  ̣̀máyàsé",
         "bluff"
        ],
        [
         "14",
         "afọsẹ",
         "invocation"
        ],
        [
         "15",
         "àga",
         "chair, stool"
        ],
        [
         "16",
         "àgbàdà",
         "dagger"
        ],
        [
         "17",
         "àgbàn",
         "cheek, chin, jaw"
        ],
        [
         "18",
         "agbedé",
         "needle, syringe"
        ],
        [
         "19",
         "àgbo",
         "herb"
        ]
       ],
       "shape": {
        "columns": 2,
        "rows": 20
       }
      },
      "text/html": [
       "<div>\n",
       "<style scoped>\n",
       "    .dataframe tbody tr th:only-of-type {\n",
       "        vertical-align: middle;\n",
       "    }\n",
       "\n",
       "    .dataframe tbody tr th {\n",
       "        vertical-align: top;\n",
       "    }\n",
       "\n",
       "    .dataframe thead th {\n",
       "        text-align: right;\n",
       "    }\n",
       "</style>\n",
       "<table border=\"1\" class=\"dataframe\">\n",
       "  <thead>\n",
       "    <tr style=\"text-align: right;\">\n",
       "      <th></th>\n",
       "      <th>local_word</th>\n",
       "      <th>english_meaning</th>\n",
       "    </tr>\n",
       "  </thead>\n",
       "  <tbody>\n",
       "    <tr>\n",
       "      <th>0</th>\n",
       "      <td>ababe</td>\n",
       "      <td>poison</td>\n",
       "    </tr>\n",
       "    <tr>\n",
       "      <th>1</th>\n",
       "      <td>ábe  ̣́</td>\n",
       "      <td>below</td>\n",
       "    </tr>\n",
       "    <tr>\n",
       "      <th>2</th>\n",
       "      <td>ábe  ̣́</td>\n",
       "      <td>bottom</td>\n",
       "    </tr>\n",
       "    <tr>\n",
       "      <th>3</th>\n",
       "      <td>àbéké</td>\n",
       "      <td>knife</td>\n",
       "    </tr>\n",
       "    <tr>\n",
       "      <th>4</th>\n",
       "      <td>abọrọkpọ</td>\n",
       "      <td>spinning wheel</td>\n",
       "    </tr>\n",
       "    <tr>\n",
       "      <th>5</th>\n",
       "      <td>abo  ̣́wo  ̣́</td>\n",
       "      <td>armpit</td>\n",
       "    </tr>\n",
       "    <tr>\n",
       "      <th>6</th>\n",
       "      <td>àdá</td>\n",
       "      <td>hatchet, sword</td>\n",
       "    </tr>\n",
       "    <tr>\n",
       "      <th>7</th>\n",
       "      <td>adan</td>\n",
       "      <td>bat</td>\n",
       "    </tr>\n",
       "    <tr>\n",
       "      <th>8</th>\n",
       "      <td>adé</td>\n",
       "      <td>crown</td>\n",
       "    </tr>\n",
       "    <tr>\n",
       "      <th>9</th>\n",
       "      <td>adele</td>\n",
       "      <td>house lizard</td>\n",
       "    </tr>\n",
       "    <tr>\n",
       "      <th>10</th>\n",
       "      <td>ade  ̣́n</td>\n",
       "      <td>fried</td>\n",
       "    </tr>\n",
       "    <tr>\n",
       "      <th>11</th>\n",
       "      <td>adidun</td>\n",
       "      <td>stingy</td>\n",
       "    </tr>\n",
       "    <tr>\n",
       "      <th>12</th>\n",
       "      <td>afán</td>\n",
       "      <td>gun</td>\n",
       "    </tr>\n",
       "    <tr>\n",
       "      <th>13</th>\n",
       "      <td>afo  ̣̀máyàsé</td>\n",
       "      <td>bluff</td>\n",
       "    </tr>\n",
       "    <tr>\n",
       "      <th>14</th>\n",
       "      <td>afọsẹ</td>\n",
       "      <td>invocation</td>\n",
       "    </tr>\n",
       "    <tr>\n",
       "      <th>15</th>\n",
       "      <td>àga</td>\n",
       "      <td>chair, stool</td>\n",
       "    </tr>\n",
       "    <tr>\n",
       "      <th>16</th>\n",
       "      <td>àgbàdà</td>\n",
       "      <td>dagger</td>\n",
       "    </tr>\n",
       "    <tr>\n",
       "      <th>17</th>\n",
       "      <td>àgbàn</td>\n",
       "      <td>cheek, chin, jaw</td>\n",
       "    </tr>\n",
       "    <tr>\n",
       "      <th>18</th>\n",
       "      <td>agbedé</td>\n",
       "      <td>needle, syringe</td>\n",
       "    </tr>\n",
       "    <tr>\n",
       "      <th>19</th>\n",
       "      <td>àgbo</td>\n",
       "      <td>herb</td>\n",
       "    </tr>\n",
       "  </tbody>\n",
       "</table>\n",
       "</div>"
      ],
      "text/plain": [
       "          local_word   english_meaning\n",
       "0              ababe            poison\n",
       "1           ábe  ̣́             below\n",
       "2           ábe  ̣́            bottom\n",
       "3           àbéké             knife\n",
       "4        abọrọkpọ    spinning wheel\n",
       "5      abo  ̣́wo  ̣́            armpit\n",
       "6              àdá    hatchet, sword\n",
       "7               adan               bat\n",
       "8               adé             crown\n",
       "9              adele      house lizard\n",
       "10          ade  ̣́n             fried\n",
       "11            adidun            stingy\n",
       "12             afán               gun\n",
       "13  afo  ̣̀máyàsé             bluff\n",
       "14           afọsẹ        invocation\n",
       "15              àga      chair, stool\n",
       "16         àgbàdà            dagger\n",
       "17           àgbàn  cheek, chin, jaw\n",
       "18           agbedé   needle, syringe\n",
       "19             àgbo              herb"
      ]
     },
     "execution_count": 21,
     "metadata": {},
     "output_type": "execute_result"
    }
   ],
   "source": [
    "df.head(20)"
   ]
  },
  {
   "cell_type": "code",
   "execution_count": null,
   "id": "f34fe492",
   "metadata": {},
   "outputs": [],
   "source": [
    "df.to_csv('../data/processed_csv/olukumi_local_english.csv',index=False)\n",
    "df.to_excel('../data/processed_csv/olukumi_local_english.xlsx',index=False)\n",
    "df.to_parquet('../data/processed_csv/olukumi_local_english.parquet',index=False)"
   ]
  },
  {
   "cell_type": "code",
   "execution_count": null,
   "id": "bf933513",
   "metadata": {},
   "outputs": [],
   "source": []
  }
 ],
 "metadata": {
  "kernelspec": {
   "display_name": "base",
   "language": "python",
   "name": "python3"
  },
  "language_info": {
   "codemirror_mode": {
    "name": "ipython",
    "version": 3
   },
   "file_extension": ".py",
   "mimetype": "text/x-python",
   "name": "python",
   "nbconvert_exporter": "python",
   "pygments_lexer": "ipython3",
   "version": "3.12.7"
  }
 },
 "nbformat": 4,
 "nbformat_minor": 5
}
