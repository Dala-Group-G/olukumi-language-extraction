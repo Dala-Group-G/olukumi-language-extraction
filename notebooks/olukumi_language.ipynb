{
 "cells": [
  {
   "cell_type": "markdown",
   "id": "19da3b2b",
   "metadata": {},
   "source": [
    "# Importing **Dependencies** and Setting Directory"
   ]
  },
  {
   "cell_type": "code",
   "execution_count": 15,
   "id": "2b8d6169",
   "metadata": {},
   "outputs": [],
   "source": [
    "import fitz  # PyMuPDF\n",
    "import re\n",
    "import os\n",
    "import sys\n",
    "sys.path.append(os.path.abspath(\"../\"))"
   ]
  },
  {
   "cell_type": "markdown",
   "id": "15ed37a9",
   "metadata": {},
   "source": [
    "# Data Extraction and Cleaning"
   ]
  },
  {
   "cell_type": "code",
   "execution_count": 16,
   "id": "3b8c7d8b-891a-448f-930d-9348daf5bddf",
   "metadata": {},
   "outputs": [
    {
     "name": "stdout",
     "output_type": "stream",
     "text": [
      "All text copied from PDF and saved to raw_text.txt, with 65274 number of words\n"
     ]
    }
   ],
   "source": [
    "# ---------------- Extraction function definition and saving as .txt ---------------------\n",
    "def extract_pdf_text(pdf_path):\n",
    "    \"\"\"Extracts text from the pdf using the PyMupdf library\n",
    "\n",
    "    Args:\n",
    "        pdf_path (_str_): Description - file name path\n",
    "\n",
    "    Returns:\n",
    "       all_text (_str_): Description - all the words in the pdf document\n",
    "    \"\"\"\n",
    "    doc = fitz.open(pdf_path)\n",
    "    all_text = \"\"\n",
    "\n",
    "    for page in doc:\n",
    "        all_text += page.get_text()\n",
    "    \n",
    "    return all_text\n",
    "\n",
    "pdf_path = \"../data/raw/Olukumi-EnglishPUBLISHNEW.pdf\"\n",
    "text = extract_pdf_text(pdf_path)\n",
    "\n",
    "# Save the extracted text to a .txt file\n",
    "with open(\"../text_files/raw_text.txt\", \"w\", encoding=\"utf-8\") as f:\n",
    "    f.write(text)\n",
    "\n",
    "print(f\"All text copied from PDF and saved to raw_text.txt, with {len(text)} number of words\")\n"
   ]
  },
  {
   "cell_type": "code",
   "execution_count": 18,
   "id": "83696cb7-f215-49c2-a8be-32dbaa2df10b",
   "metadata": {},
   "outputs": [
    {
     "name": "stdout",
     "output_type": "stream",
     "text": [
      "Cleaned text saved to cleaned_text.txt, with 64552 number of words\n"
     ]
    }
   ],
   "source": [
    "# -------------------- Clean text function definition and saving as .txt ------------------\n",
    "def clean_text(text):\n",
    "    \"\"\"Removes URLs, page numbers, dates and blank lines  using regex patterns, while still preserving data integrity.\n",
    "\n",
    "    Args:\n",
    "        text (_str_): Description - input text to be cleaned\n",
    "\n",
    "    Returns:\n",
    "       text (_str_): Description - A clean version of the text\n",
    "    \"\"\"\n",
    "    # Remove URLs\n",
    "    text = re.sub(r'https?://\\S+', '', text)\n",
    "    # Remove \"Page 1\", \"Page 2\", etc.\n",
    "    text = re.sub(r'Page\\s*\\d+', '', text)\n",
    "    # Remove dates like \"July 31, 2025\"\n",
    "    text = re.sub(r'\\b(January|February|March|April|May|June|July|August|September|October|November|December)\\s+\\d{1,2},\\s+\\d{4}', '', text)\n",
    "    # Remove extra blank lines\n",
    "    text = re.sub(r'\\n\\s*\\n+', '\\n', text)\n",
    "    return text\n",
    "\n",
    "# Load the raw text from the file\n",
    "with open(\"../text_files/raw_text.txt\", \"r\", encoding=\"utf-8\") as f:\n",
    "    raw = f.read()\n",
    "\n",
    "# Clean the text\n",
    "cleaned = clean_text(raw)\n",
    "\n",
    "# Save the cleaned text to a new file\n",
    "with open(\"../text_files/cleaned_text.txt\", \"w\", encoding=\"utf-8\") as f:\n",
    "    f.write(cleaned)\n",
    "\n",
    "print(f\"Cleaned text saved to cleaned_text.txt, with {len(cleaned)} number of words\")\n"
   ]
  },
  {
   "cell_type": "code",
   "execution_count": 19,
   "id": "b15a0bf9-5f03-4643-a9ba-a0673a1c9610",
   "metadata": {},
   "outputs": [
    {
     "name": "stdout",
     "output_type": "stream",
     "text": [
      "See discussions, stats, and author profiles for this publication at: \n",
      "Olukumi Bilingual Dictionary\n",
      "Book · July 2017\n",
      "CITATIONS\n",
      "0\n",
      "READS\n",
      "1,156\n",
      "2 authors:\n",
      "Bolanle Elizabeth Arokoyo\n",
      "University of Ilorin\n",
      "44 PUBLICATIONS   42 CITATIONS   \n",
      "SEE PROFILE\n",
      "Olamide Mabodu\n",
      "Nottingham Trent University\n",
      "5 PUBLICATIONS   0 CITATIONS   \n",
      "SEE PROFILE\n",
      "All content following this page was uploaded by Bolanle Elizabeth Arokoyo on 10 May 2020.\n",
      "The user has requested enhancement of the downloaded file.\n",
      "ababe \n",
      "1 \n",
      "OLÙKÙMI-ENGLISH\n",
      "ababe \n",
      "1 \n",
      "A - a \n",
      "ababe   [ɑbɑbe] n. poison. \n",
      "ábe  ̣́   [ɑ́bɛ́] adv, prep. below. \n",
      "ábe  ̣́   [ɑ́bɛ́] n. bottom. \n",
      "àbéké   [ɑ̀béké] n. knife. \n",
      "abọrọkpọ  [ɑbͻrͻkpͻ] n. \n",
      "spinning wheel. \n",
      "abo  ̣́wo  ̣́   [ɑbͻ́wͻ́] n. armpit. \n",
      "àdá   [ɑ̀dɑ́] n. hatchet, sword. \n",
      "adan  [ɑdɑ̃] n. bat. \n",
      "adé   [ɑdé] n. crown. \n",
      "adele   [ɑdele] n. house \n",
      "lizard. \n",
      "ade  ̣́n   [ɑdɛ̃́] adj. fried. \n",
      "adidun   [ɑdidũ] adj. stingy. \n",
      "afán   [ɑfɑ̃́] n. gun. \n",
      "afo  ̣̀máyàsé  [ɑfͻ̀mɑ́jɑ̀sé] v. \n",
      "bluff. \n",
      "afọsẹ   [\n"
     ]
    }
   ],
   "source": [
    "# Opening and printing the cleaned text right\n",
    "with open(\"../text_files/cleaned_text.txt\", \"r\", encoding=\"utf-8\") as f:\n",
    "    content = f.read()\n",
    "\n",
    "# showing the first 1000 characters \n",
    "print(content[:1000])  \n"
   ]
  },
  {
   "cell_type": "code",
   "execution_count": null,
   "id": "f1b51711-d213-4300-8534-af2650e4623d",
   "metadata": {},
   "outputs": [],
   "source": []
  }
 ],
 "metadata": {
  "kernelspec": {
   "display_name": "base",
   "language": "python",
   "name": "python3"
  },
  "language_info": {
   "codemirror_mode": {
    "name": "ipython",
    "version": 3
   },
   "file_extension": ".py",
   "mimetype": "text/x-python",
   "name": "python",
   "nbconvert_exporter": "python",
   "pygments_lexer": "ipython3",
   "version": "3.12.7"
  }
 },
 "nbformat": 4,
 "nbformat_minor": 5
}
