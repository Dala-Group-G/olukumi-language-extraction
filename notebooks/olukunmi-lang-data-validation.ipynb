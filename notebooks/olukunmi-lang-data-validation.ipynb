{
 "cells": [
  {
   "cell_type": "markdown",
   "id": "5ed9124f",
   "metadata": {},
   "source": [
    "# Importing Dependencies and Loadiong data"
   ]
  },
  {
   "cell_type": "code",
   "execution_count": 20,
   "id": "f2a2ffbf0abb4d8f",
   "metadata": {
    "ExecuteTime": {
     "end_time": "2025-08-05T22:40:33.895600Z",
     "start_time": "2025-08-05T22:40:33.861490Z"
    }
   },
   "outputs": [
    {
     "name": "stderr",
     "output_type": "stream",
     "text": [
      "[nltk_data] Error loading words: <urlopen error [WinError 10060] A\n",
      "[nltk_data]     connection attempt failed because the connected party\n",
      "[nltk_data]     did not properly respond after a period of time, or\n",
      "[nltk_data]     established connection failed because connected host\n",
      "[nltk_data]     has failed to respond>\n"
     ]
    }
   ],
   "source": [
    "import pandas as pd\n",
    "import warnings\n",
    "warnings.filterwarnings('ignore')\n",
    "import nltk\n",
    "\n",
    "# Conditionally download the 'words' corpus if not present\n",
    "try:\n",
    "    nltk.data.find('corpora/words')\n",
    "except LookupError:\n",
    "    nltk.download('words')\n",
    "\n",
    "\n",
    "#loading Data\n",
    "df = pd.read_csv('../data/processed_csv/olukumi_local_english.csv')"
   ]
  },
  {
   "cell_type": "markdown",
   "id": "dcb7e95f423035ba",
   "metadata": {},
   "source": [
    "# Data Inspection, EDA and validation"
   ]
  },
  {
   "cell_type": "code",
   "execution_count": 2,
   "id": "f7f2dc4fd8771c76",
   "metadata": {
    "ExecuteTime": {
     "end_time": "2025-08-05T22:40:33.960407Z",
     "start_time": "2025-08-05T22:40:33.907978Z"
    }
   },
   "outputs": [
    {
     "name": "stdout",
     "output_type": "stream",
     "text": [
      "HEAD:\n",
      "\n",
      "    local_word english_meaning\n",
      "0        ababe          poison\n",
      "1     ábe  ̣́           below\n",
      "2     ábe  ̣́          bottom\n",
      "3     àbéké           knife\n",
      "4  abọrọkpọ  spinning wheel\n",
      "\n",
      "\n",
      "SHAPE:\n",
      "\n",
      "(1668, 2)\n",
      "\n",
      "\n",
      "INFO:\n",
      "\n",
      "<class 'pandas.core.frame.DataFrame'>\n",
      "RangeIndex: 1668 entries, 0 to 1667\n",
      "Data columns (total 2 columns):\n",
      " #   Column           Non-Null Count  Dtype \n",
      "---  ------           --------------  ----- \n",
      " 0   local_word       1668 non-null   object\n",
      " 1   english_meaning  1662 non-null   object\n",
      "dtypes: object(2)\n",
      "memory usage: 26.2+ KB\n",
      "None\n",
      "\n",
      "\n",
      "DESCRIBE:\n",
      "\n",
      "       local_word english_meaning\n",
      "count        1668            1662\n",
      "unique       1625            1646\n",
      "top        kòkò          bellow\n",
      "freq            3               2\n",
      "\n",
      "\n",
      "DATATYPES:\n",
      "\n",
      "local_word         object\n",
      "english_meaning    object\n",
      "dtype: object\n"
     ]
    }
   ],
   "source": [
    "# Previewing Data\n",
    "print(\"HEAD:\\n\")\n",
    "print(df.head())\n",
    "print(\"\\n\")\n",
    "\n",
    "print(\"SHAPE:\\n\")\n",
    "print(df.shape)\n",
    "print(\"\\n\")\n",
    "\n",
    "print(\"INFO:\\n\")\n",
    "print(df.info())\n",
    "print(\"\\n\")\n",
    "\n",
    "print(\"DESCRIBE:\\n\")\n",
    "print(df.describe())\n",
    "print(\"\\n\")\n",
    "\n",
    "\n",
    "print(\"DATATYPES:\\n\")\n",
    "print(df.dtypes)"
   ]
  },
  {
   "cell_type": "code",
   "execution_count": 3,
   "id": "1c99d6875fdb69b5",
   "metadata": {
    "ExecuteTime": {
     "end_time": "2025-08-05T22:40:34.004150Z",
     "start_time": "2025-08-05T22:40:33.988753Z"
    }
   },
   "outputs": [
    {
     "data": {
      "application/vnd.microsoft.datawrangler.viewer.v0+json": {
       "columns": [
        {
         "name": "index",
         "rawType": "object",
         "type": "string"
        },
        {
         "name": "0",
         "rawType": "int64",
         "type": "integer"
        }
       ],
       "ref": "429fabb7-5d8e-4980-96bd-2e7324b4aaa5",
       "rows": [
        [
         "local_word",
         "0"
        ],
        [
         "english_meaning",
         "6"
        ]
       ],
       "shape": {
        "columns": 1,
        "rows": 2
       }
      },
      "text/plain": [
       "local_word         0\n",
       "english_meaning    6\n",
       "dtype: int64"
      ]
     },
     "execution_count": 3,
     "metadata": {},
     "output_type": "execute_result"
    }
   ],
   "source": [
    "# Checking for missing values\n",
    "df.isna().sum()"
   ]
  },
  {
   "cell_type": "code",
   "execution_count": 4,
   "id": "a0d857ccdcb39c",
   "metadata": {
    "ExecuteTime": {
     "end_time": "2025-08-05T22:40:34.066329Z",
     "start_time": "2025-08-05T22:40:34.045957Z"
    }
   },
   "outputs": [
    {
     "data": {
      "application/vnd.microsoft.datawrangler.viewer.v0+json": {
       "columns": [
        {
         "name": "index",
         "rawType": "object",
         "type": "string"
        },
        {
         "name": "0",
         "rawType": "int64",
         "type": "integer"
        }
       ],
       "ref": "a1f9db44-e176-430d-80e4-79e3c7a45220",
       "rows": [
        [
         "local_word",
         "0"
        ],
        [
         "english_meaning",
         "0"
        ]
       ],
       "shape": {
        "columns": 1,
        "rows": 2
       }
      },
      "text/plain": [
       "local_word         0\n",
       "english_meaning    0\n",
       "dtype: int64"
      ]
     },
     "execution_count": 4,
     "metadata": {},
     "output_type": "execute_result"
    }
   ],
   "source": [
    "# Dropping missing values\n",
    "df.dropna(inplace = True)\n",
    "\n",
    "df.isna().sum()"
   ]
  },
  {
   "cell_type": "code",
   "execution_count": 5,
   "id": "7d5815e24b5980d4",
   "metadata": {
    "ExecuteTime": {
     "end_time": "2025-08-05T22:40:34.126189Z",
     "start_time": "2025-08-05T22:40:34.106322Z"
    }
   },
   "outputs": [
    {
     "name": "stdout",
     "output_type": "stream",
     "text": [
      "Empty DataFrame\n",
      "Columns: [local_word, english_meaning]\n",
      "Index: []\n"
     ]
    }
   ],
   "source": [
    "#Checking For Duplicates\n",
    "duplicates = df[df.duplicated()]\n",
    "print(duplicates)"
   ]
  },
  {
   "cell_type": "code",
   "execution_count": 6,
   "id": "3e4e7c09",
   "metadata": {},
   "outputs": [
    {
     "data": {
      "text/plain": [
       "Index(['local_word', 'english_meaning'], dtype='object')"
      ]
     },
     "execution_count": 6,
     "metadata": {},
     "output_type": "execute_result"
    }
   ],
   "source": [
    "df.columns"
   ]
  },
  {
   "cell_type": "code",
   "execution_count": 7,
   "id": "334f3851ce69bea1",
   "metadata": {
    "ExecuteTime": {
     "end_time": "2025-08-05T22:40:34.189577Z",
     "start_time": "2025-08-05T22:40:34.168709Z"
    }
   },
   "outputs": [
    {
     "name": "stdout",
     "output_type": "stream",
     "text": [
      "local_word         0\n",
      "english_meaning    0\n",
      "dtype: int64\n"
     ]
    }
   ],
   "source": [
    "#Checking For Empty strings or white space\n",
    "df['local_word'] = df['local_word'].str.strip()\n",
    "df['english_meaning'] = df['english_meaning'].str.strip()\n",
    "\n",
    "df.replace('',pd.NA,inplace=True)\n",
    "print(df.isna().sum())"
   ]
  },
  {
   "cell_type": "code",
   "execution_count": 8,
   "id": "206ec74558b77912",
   "metadata": {
    "ExecuteTime": {
     "end_time": "2025-08-05T22:40:34.239786Z",
     "start_time": "2025-08-05T22:40:34.228250Z"
    }
   },
   "outputs": [
    {
     "name": "stdout",
     "output_type": "stream",
     "text": [
      "local_word         object\n",
      "english_meaning    object\n",
      "dtype: object\n"
     ]
    }
   ],
   "source": [
    "# Confirming Datatypes of columns\n",
    "print(df.dtypes)"
   ]
  },
  {
   "cell_type": "code",
   "execution_count": 9,
   "id": "1a8c2d6ef12073e8",
   "metadata": {
    "ExecuteTime": {
     "end_time": "2025-08-05T22:40:34.295389Z",
     "start_time": "2025-08-05T22:40:34.284455Z"
    }
   },
   "outputs": [],
   "source": [
    "# making sure datatypes are all strings\n",
    "df['local_word'] = df['local_word'].astype('str')\n",
    "df['english_meaning'] = df['english_meaning'].astype('str')"
   ]
  },
  {
   "cell_type": "code",
   "execution_count": 10,
   "id": "37388bd2f1871cac",
   "metadata": {
    "ExecuteTime": {
     "end_time": "2025-08-05T22:40:34.340173Z",
     "start_time": "2025-08-05T22:40:34.311531Z"
    }
   },
   "outputs": [
    {
     "data": {
      "application/vnd.microsoft.datawrangler.viewer.v0+json": {
       "columns": [
        {
         "name": "index",
         "rawType": "int64",
         "type": "integer"
        },
        {
         "name": "local_word",
         "rawType": "object",
         "type": "string"
        },
        {
         "name": "english_meaning",
         "rawType": "object",
         "type": "string"
        }
       ],
       "ref": "5731082f-fd7f-4c4d-85f9-f6827804f633",
       "rows": [
        [
         "0",
         "ababe",
         "poison"
        ],
        [
         "1",
         "ábe  ̣́",
         "below"
        ],
        [
         "2",
         "ábe  ̣́",
         "bottom"
        ],
        [
         "3",
         "àbéké",
         "knife"
        ],
        [
         "4",
         "abọrọkpọ",
         "spinning wheel"
        ],
        [
         "5",
         "abo  ̣́wo  ̣́",
         "armpit"
        ],
        [
         "6",
         "àdá",
         "hatchet, sword"
        ],
        [
         "7",
         "adan",
         "bat"
        ],
        [
         "8",
         "adé",
         "crown"
        ],
        [
         "9",
         "adele",
         "house lizard"
        ],
        [
         "10",
         "ade  ̣́n",
         "fried"
        ],
        [
         "11",
         "adidun",
         "stingy"
        ],
        [
         "12",
         "afán",
         "gun"
        ],
        [
         "13",
         "afo  ̣̀máyàsé",
         "bluff"
        ],
        [
         "14",
         "afọsẹ",
         "invocation"
        ]
       ],
       "shape": {
        "columns": 2,
        "rows": 15
       }
      },
      "text/html": [
       "<div>\n",
       "<style scoped>\n",
       "    .dataframe tbody tr th:only-of-type {\n",
       "        vertical-align: middle;\n",
       "    }\n",
       "\n",
       "    .dataframe tbody tr th {\n",
       "        vertical-align: top;\n",
       "    }\n",
       "\n",
       "    .dataframe thead th {\n",
       "        text-align: right;\n",
       "    }\n",
       "</style>\n",
       "<table border=\"1\" class=\"dataframe\">\n",
       "  <thead>\n",
       "    <tr style=\"text-align: right;\">\n",
       "      <th></th>\n",
       "      <th>local_word</th>\n",
       "      <th>english_meaning</th>\n",
       "    </tr>\n",
       "  </thead>\n",
       "  <tbody>\n",
       "    <tr>\n",
       "      <th>0</th>\n",
       "      <td>ababe</td>\n",
       "      <td>poison</td>\n",
       "    </tr>\n",
       "    <tr>\n",
       "      <th>1</th>\n",
       "      <td>ábe  ̣́</td>\n",
       "      <td>below</td>\n",
       "    </tr>\n",
       "    <tr>\n",
       "      <th>2</th>\n",
       "      <td>ábe  ̣́</td>\n",
       "      <td>bottom</td>\n",
       "    </tr>\n",
       "    <tr>\n",
       "      <th>3</th>\n",
       "      <td>àbéké</td>\n",
       "      <td>knife</td>\n",
       "    </tr>\n",
       "    <tr>\n",
       "      <th>4</th>\n",
       "      <td>abọrọkpọ</td>\n",
       "      <td>spinning wheel</td>\n",
       "    </tr>\n",
       "    <tr>\n",
       "      <th>5</th>\n",
       "      <td>abo  ̣́wo  ̣́</td>\n",
       "      <td>armpit</td>\n",
       "    </tr>\n",
       "    <tr>\n",
       "      <th>6</th>\n",
       "      <td>àdá</td>\n",
       "      <td>hatchet, sword</td>\n",
       "    </tr>\n",
       "    <tr>\n",
       "      <th>7</th>\n",
       "      <td>adan</td>\n",
       "      <td>bat</td>\n",
       "    </tr>\n",
       "    <tr>\n",
       "      <th>8</th>\n",
       "      <td>adé</td>\n",
       "      <td>crown</td>\n",
       "    </tr>\n",
       "    <tr>\n",
       "      <th>9</th>\n",
       "      <td>adele</td>\n",
       "      <td>house lizard</td>\n",
       "    </tr>\n",
       "    <tr>\n",
       "      <th>10</th>\n",
       "      <td>ade  ̣́n</td>\n",
       "      <td>fried</td>\n",
       "    </tr>\n",
       "    <tr>\n",
       "      <th>11</th>\n",
       "      <td>adidun</td>\n",
       "      <td>stingy</td>\n",
       "    </tr>\n",
       "    <tr>\n",
       "      <th>12</th>\n",
       "      <td>afán</td>\n",
       "      <td>gun</td>\n",
       "    </tr>\n",
       "    <tr>\n",
       "      <th>13</th>\n",
       "      <td>afo  ̣̀máyàsé</td>\n",
       "      <td>bluff</td>\n",
       "    </tr>\n",
       "    <tr>\n",
       "      <th>14</th>\n",
       "      <td>afọsẹ</td>\n",
       "      <td>invocation</td>\n",
       "    </tr>\n",
       "  </tbody>\n",
       "</table>\n",
       "</div>"
      ],
      "text/plain": [
       "          local_word english_meaning\n",
       "0              ababe          poison\n",
       "1           ábe  ̣́           below\n",
       "2           ábe  ̣́          bottom\n",
       "3           àbéké           knife\n",
       "4        abọrọkpọ  spinning wheel\n",
       "5      abo  ̣́wo  ̣́          armpit\n",
       "6              àdá  hatchet, sword\n",
       "7               adan             bat\n",
       "8               adé           crown\n",
       "9              adele    house lizard\n",
       "10          ade  ̣́n           fried\n",
       "11            adidun          stingy\n",
       "12             afán             gun\n",
       "13  afo  ̣̀máyàsé           bluff\n",
       "14           afọsẹ      invocation"
      ]
     },
     "execution_count": 10,
     "metadata": {},
     "output_type": "execute_result"
    }
   ],
   "source": [
    "df.head(15)"
   ]
  },
  {
   "cell_type": "markdown",
   "id": "8b4771349f4c2f26",
   "metadata": {},
   "source": [
    "Looking for strange characters or symbols"
   ]
  },
  {
   "cell_type": "code",
   "execution_count": null,
   "id": "196e2166f5461bec",
   "metadata": {
    "ExecuteTime": {
     "end_time": "2025-08-05T22:40:34.411024Z",
     "start_time": "2025-08-05T22:40:34.380812Z"
    }
   },
   "outputs": [],
   "source": [
    "import re\n",
    "from textblob import TextBlob\n",
    "\n",
    "#Remove unwanted characters.\n",
    "def clean_text(text):\n",
    "    # Keep: letters (a-z, A-Z), digits (0-9), spaces, hyphens, and accented letters (Latin-1 and Latin Extended)\n",
    "    return re.sub(r\"[^a-zA-Z0-9\\s\\-\\u00C0-\\u024F]\", \"\", text)"
   ]
  },
  {
   "cell_type": "code",
   "execution_count": 12,
   "id": "8fa286c6112ba1f9",
   "metadata": {
    "ExecuteTime": {
     "end_time": "2025-08-05T22:40:34.572259Z",
     "start_time": "2025-08-05T22:40:34.444226Z"
    }
   },
   "outputs": [
    {
     "data": {
      "application/vnd.microsoft.datawrangler.viewer.v0+json": {
       "columns": [
        {
         "name": "index",
         "rawType": "int64",
         "type": "integer"
        },
        {
         "name": "local_word",
         "rawType": "object",
         "type": "string"
        },
        {
         "name": "english_meaning",
         "rawType": "object",
         "type": "string"
        }
       ],
       "ref": "d8c964ba-cdfb-45e7-9294-d3155f0973c3",
       "rows": [
        [
         "0",
         "ababe",
         "poison"
        ],
        [
         "1",
         "ábe  ̣́",
         "below"
        ],
        [
         "2",
         "ábe  ̣́",
         "bottom"
        ],
        [
         "3",
         "àbéké",
         "knife"
        ],
        [
         "4",
         "abọrọkpọ",
         "spinning wheel"
        ],
        [
         "5",
         "abo  ̣́wo  ̣́",
         "armpit"
        ],
        [
         "6",
         "àdá",
         "hatchet"
        ],
        [
         "6",
         "àdá",
         "sword"
        ],
        [
         "7",
         "adan",
         "bat"
        ],
        [
         "8",
         "adé",
         "crown"
        ],
        [
         "9",
         "adele",
         "house lizard"
        ],
        [
         "10",
         "ade  ̣́n",
         "fried"
        ],
        [
         "11",
         "adidun",
         "stingy"
        ],
        [
         "12",
         "afán",
         "gun"
        ],
        [
         "13",
         "afo  ̣̀máyàsé",
         "bluff"
        ]
       ],
       "shape": {
        "columns": 2,
        "rows": 15
       }
      },
      "text/html": [
       "<div>\n",
       "<style scoped>\n",
       "    .dataframe tbody tr th:only-of-type {\n",
       "        vertical-align: middle;\n",
       "    }\n",
       "\n",
       "    .dataframe tbody tr th {\n",
       "        vertical-align: top;\n",
       "    }\n",
       "\n",
       "    .dataframe thead th {\n",
       "        text-align: right;\n",
       "    }\n",
       "</style>\n",
       "<table border=\"1\" class=\"dataframe\">\n",
       "  <thead>\n",
       "    <tr style=\"text-align: right;\">\n",
       "      <th></th>\n",
       "      <th>local_word</th>\n",
       "      <th>english_meaning</th>\n",
       "    </tr>\n",
       "  </thead>\n",
       "  <tbody>\n",
       "    <tr>\n",
       "      <th>0</th>\n",
       "      <td>ababe</td>\n",
       "      <td>poison</td>\n",
       "    </tr>\n",
       "    <tr>\n",
       "      <th>1</th>\n",
       "      <td>ábe  ̣́</td>\n",
       "      <td>below</td>\n",
       "    </tr>\n",
       "    <tr>\n",
       "      <th>2</th>\n",
       "      <td>ábe  ̣́</td>\n",
       "      <td>bottom</td>\n",
       "    </tr>\n",
       "    <tr>\n",
       "      <th>3</th>\n",
       "      <td>àbéké</td>\n",
       "      <td>knife</td>\n",
       "    </tr>\n",
       "    <tr>\n",
       "      <th>4</th>\n",
       "      <td>abọrọkpọ</td>\n",
       "      <td>spinning wheel</td>\n",
       "    </tr>\n",
       "    <tr>\n",
       "      <th>5</th>\n",
       "      <td>abo  ̣́wo  ̣́</td>\n",
       "      <td>armpit</td>\n",
       "    </tr>\n",
       "    <tr>\n",
       "      <th>6</th>\n",
       "      <td>àdá</td>\n",
       "      <td>hatchet</td>\n",
       "    </tr>\n",
       "    <tr>\n",
       "      <th>6</th>\n",
       "      <td>àdá</td>\n",
       "      <td>sword</td>\n",
       "    </tr>\n",
       "    <tr>\n",
       "      <th>7</th>\n",
       "      <td>adan</td>\n",
       "      <td>bat</td>\n",
       "    </tr>\n",
       "    <tr>\n",
       "      <th>8</th>\n",
       "      <td>adé</td>\n",
       "      <td>crown</td>\n",
       "    </tr>\n",
       "    <tr>\n",
       "      <th>9</th>\n",
       "      <td>adele</td>\n",
       "      <td>house lizard</td>\n",
       "    </tr>\n",
       "    <tr>\n",
       "      <th>10</th>\n",
       "      <td>ade  ̣́n</td>\n",
       "      <td>fried</td>\n",
       "    </tr>\n",
       "    <tr>\n",
       "      <th>11</th>\n",
       "      <td>adidun</td>\n",
       "      <td>stingy</td>\n",
       "    </tr>\n",
       "    <tr>\n",
       "      <th>12</th>\n",
       "      <td>afán</td>\n",
       "      <td>gun</td>\n",
       "    </tr>\n",
       "    <tr>\n",
       "      <th>13</th>\n",
       "      <td>afo  ̣̀máyàsé</td>\n",
       "      <td>bluff</td>\n",
       "    </tr>\n",
       "  </tbody>\n",
       "</table>\n",
       "</div>"
      ],
      "text/plain": [
       "          local_word english_meaning\n",
       "0              ababe          poison\n",
       "1           ábe  ̣́           below\n",
       "2           ábe  ̣́          bottom\n",
       "3           àbéké           knife\n",
       "4        abọrọkpọ  spinning wheel\n",
       "5      abo  ̣́wo  ̣́          armpit\n",
       "6              àdá         hatchet\n",
       "6              àdá           sword\n",
       "7               adan             bat\n",
       "8               adé           crown\n",
       "9              adele    house lizard\n",
       "10          ade  ̣́n           fried\n",
       "11            adidun          stingy\n",
       "12             afán             gun\n",
       "13  afo  ̣̀máyàsé           bluff"
      ]
     },
     "execution_count": 12,
     "metadata": {},
     "output_type": "execute_result"
    }
   ],
   "source": [
    "#Splitting multiple English meanings (separated by commas) into lists\n",
    "df[\"english_meaning\"] = df[\"english_meaning\"].astype(str).str.split(\",\")\n",
    "\n",
    "#Expanding the DataFrame so each English meaning gets its own row\n",
    "df_expanded = df.explode(\"english_meaning\")\n",
    "\n",
    "#Removing leading and trailing spaces from each English meaning\n",
    "df_expanded['english_meaning'] = df_expanded['english_meaning'].str.strip()\n",
    "\n",
    "df_expanded.head(15)"
   ]
  },
  {
   "cell_type": "markdown",
   "id": "f6b409db40bfcec0",
   "metadata": {},
   "source": [
    "# Checking for Language Consistency"
   ]
  },
  {
   "cell_type": "code",
   "execution_count": null,
   "id": "cbbe1863",
   "metadata": {},
   "outputs": [
    {
     "name": "stderr",
     "output_type": "stream",
     "text": [
      "[nltk_data] Downloading package words to\n",
      "[nltk_data]     C:\\Users\\HP\\AppData\\Roaming\\nltk_data...\n",
      "[nltk_data]   Unzipping corpora\\words.zip.\n"
     ]
    },
    {
     "data": {
      "text/plain": [
       "True"
      ]
     },
     "execution_count": 32,
     "metadata": {},
     "output_type": "execute_result"
    }
   ],
   "source": [
    "import nltk\n",
    "#  Download if 'words' corpus is not available\n",
    "try:\n",
    "    nltk.data.find('corpora/words')\n",
    "except LookupError:\n",
    "    nltk.download('words')"
   ]
  },
  {
   "cell_type": "code",
   "execution_count": 34,
   "id": "a2b9d172",
   "metadata": {},
   "outputs": [
    {
     "name": "stdout",
     "output_type": "stream",
     "text": [
      "Total Words: 235892\n"
     ]
    }
   ],
   "source": [
    "# importing words\n",
    "from nltk.corpus import words\n",
    "\n",
    "# Create a set of valid English words for fast lookup\n",
    "english_vocab = set(words.words())\n",
    "print(f\"Total Words: {len(english_vocab)}\")"
   ]
  },
  {
   "cell_type": "code",
   "execution_count": 35,
   "id": "a895c7a9b38f0676",
   "metadata": {
    "ExecuteTime": {
     "end_time": "2025-08-05T22:40:34.874399Z",
     "start_time": "2025-08-05T22:40:34.604951Z"
    }
   },
   "outputs": [
    {
     "name": "stdout",
     "output_type": "stream",
     "text": [
      "\n",
      "Number of badly spelled words: 228\n"
     ]
    }
   ],
   "source": [
    "def is_misspelled(word):\n",
    "    \"\"\"check if a given word is not in the English word list\n",
    "\n",
    "    Args:\n",
    "        word (_str_): english words in the english meaning column\n",
    "\n",
    "    Returns:\n",
    "        (_str_): misspelled words\n",
    "    \"\"\"\n",
    "    return str(word).lower() not in english_vocab\n",
    "\n",
    "# Apply the misspelling check across the \"English Meaning\" column\n",
    "# Count how many words are not recognized as valid English\n",
    "misspelled_count = df_expanded[\"english_meaning\"].apply(is_misspelled).sum()\n",
    "\n",
    "# Display the total number of misspelled or unrecognized English words\n",
    "print(f\"\\nNumber of badly spelled words: {misspelled_count}\")"
   ]
  },
  {
   "cell_type": "code",
   "execution_count": 37,
   "id": "361dce6813a83c91",
   "metadata": {
    "ExecuteTime": {
     "end_time": "2025-08-05T22:40:34.919219Z",
     "start_time": "2025-08-05T22:40:34.900349Z"
    }
   },
   "outputs": [
    {
     "name": "stdout",
     "output_type": "stream",
     "text": [
      "['spinning wheel', 'house lizard', 'bawdy', 'wing. akakara 2', 'horriplate', 'for storage', 'fish basket', 'horn pipe', \"adam's apple\", 'fan. àkwàn 3', 'in law', 'brother-in-law', 'old age', 'weaver bird', 'rag. áshíwín 4', 'bee wax', 'sole of foot', 'palm of hand', 'cauldron', 'wooden plank', 'mint leaf', 'unmoveable', 'old days', 'witch. ba ba mì lílá 5 b - b', 'great grandfather', 'as usual', 'etc', 'as if', 'according to', 'twinkle. búkú 6', 'lessen. cháchá 7 c - c', 'bedbug. dà 8 d - d', 'self-defence', 'pass. e - e', 'waist thread', 'half dried', 'vapour', \"coconut's oil\", 'mole rat', 'half boil', 'poetry. eregugu 2', 'country people', 'clod of earth', 'hood of serpent', 'earlobe', 'tooth ache', 'stable. e bíbì 3 ẹ - ẹ', 'body part', 'neighbour', 'fish trap of conical shape', 'centre', 'chicken egg', 'ear drum', 'embers', 'boil. ẹ́ ghó àyáká 4', 'eye ball', 'bride price', 'nook and cranny', 'palm wine', 'garden lizard', 'lover. e ne wíwe ̣́n 5', 'examiner. e nísózúmézìn 6', 'shop keeper', 'pick pocket', 'hunter', 'group leader', 'traveller. e núse ̣́ 7', 'labourer', 'nape of the neck', 'backyard', 'day before yesterday', 'dispute. e zo 8', 'gills. f - f', 'untie. gèdè 2 g - g', 'stab. gbá 3 gb -gb', 'proud', 'hunger strike', 'blunt. gbígbin 4', 'current of water', 'forced labour. ghá 5 gh-gh', 'nurse. gwa 6 gw-gw', 'shatter. há 7 h - h', 'distil', 'fart', 'soft. hún e ̣́fun 8', 'frame. ibà 9 i - i', 'gun powder', 'whimp', 'chicken pox', 'scabbies', 'broom stick', 'testicles', 'grain particles', 'white hair', 'now. ihú 10', 'cactus', 'door frame', 'palm tree', 'collar bone', 'cotton plant', 'kinsmen', 'kith and kin', 'eye lashes', 'siblings', 'lice', 'diarrhoea', 'waist chain', 'co wife', 'ghost. ire runo kan 11', 'curly hair', 'knotty hair', 'ear of corn', 'cross roads', 'childless couple', 'ancestors', 'shit', 'fish scale', 'dwelling site. iyàn zize 12', 'shrimp. jíje 13 j - j', 'compare. kà 14 k - k', 'hang', 'clear out. kókpò 15', 'when. kpa 16 kp - kp', 'at all', 'mosquito larvae', 'big red', 'short. kwapó 17 kw-kw', 'faint. là 18 l - l', 'ring. má ìfúrú 19 m - m', 'recognise', 'ten. me ̣́gwáléo ̣́gbọ́ 20', 'compare with', 'subtract. múkpàkè 21', 'fetch. ná 22 n - n', 'shoulder blade', 'self-respect', 'ó ne ne kòkò 23 o - o', 'kolanut', 'betrothed bride', 'billy goat', \"cock's comb\", 'elbow bone', 'neck bone', 'black art', 'winged ant', 'eye lid. òkè 24', 'intestinal parasite', 'grinding stone', 'friend. oluzuwanmuzuwan 25', 'breast milk', 'tooth twig', 'groundnut oil', 'seven hundred', 'first. osugwa 26', 'lamp wick', 'fed up', 'fish species', 'sore foot', 'wound. o be 27 ọ-ọ', 'soap suds', 'husband. o kpan ekpome 28', 'offering plate', 'male child', 'adolescent (male)', 'calf of cow', 'orphan. ọmoníle ̣̀ adj. aboriginal', 'serpentine. o nà 29', 'by any means', 'one hundred', 'five hundred', 'day after tomorrow', 'fore arm', 'stupid. rà 30 r-r', 'odour', 'plot. rún 31', 'stink. sà 32 s - s', 'abide by', 'observe to', 'last rites', 'fulfil', 'kiss. shín 33 sh - sh', 'settle. tà 34 t-t', 'lean and thin', 'sort out. túrenè 35', 'for that reason', 'due to', 'wet. úbalo 36 u-u', 'burning sensation in the mouth', 'offence', 'buttocks', 'molar teeth', 'gourd vessel', 'burial ground', 'eye socket', 'bitter gourd', 'one with six fingers on each hand', 'well. ùhe títe mo 37', 'liquor shop', 'sudden flight', '(n). different(ce)', 'smoking pipe', 'sugarcane', 'angling rod', 'moon beam', 'residential house', 'canopy. ulàkpákpa 38', 'spider web', 'handloom', 'goat shed', 'pen for animals', 'orphanage', 'police station', 'clay house', 'box of matches', 'god(ess)', 'ape. úro 39', 'eye disease', 'possession. urun tázẹ́ wá 40', 'marvellous', 'earthen pot', 'calf of leg', 'daily work', 'dance. wá 41 w-w', 'expectorate. yà 42 y-y', 'she goat', 'topsy-turvy', 'insert. zàká 43 z-z', 'suffer. view publication stats']\n"
     ]
    }
   ],
   "source": [
    "# Identify and extract all misspelled words from the \"English Meaning\" column.\n",
    "misspelled_words = df_expanded[\"english_meaning\"][df_expanded[\"english_meaning\"].apply(is_misspelled)]\n",
    "\n",
    "# Convert to lowercase, remove any missing values (NaN), and eliminate duplicates.\n",
    "unique_misspelled = misspelled_words.dropna().str.lower().unique()\n",
    "\n",
    "# Convert the result to a list and print it for easier viewing.\n",
    "print(list(unique_misspelled))\n"
   ]
  },
  {
   "cell_type": "code",
   "execution_count": 38,
   "id": "1d03a7199e513ea8",
   "metadata": {
    "ExecuteTime": {
     "end_time": "2025-08-05T22:40:35.002830Z",
     "start_time": "2025-08-05T22:40:34.950435Z"
    }
   },
   "outputs": [
    {
     "data": {
      "application/vnd.microsoft.datawrangler.viewer.v0+json": {
       "columns": [
        {
         "name": "index",
         "rawType": "int64",
         "type": "integer"
        },
        {
         "name": "local_word",
         "rawType": "object",
         "type": "string"
        },
        {
         "name": "english_meaning",
         "rawType": "object",
         "type": "string"
        },
        {
         "name": "has_accented",
         "rawType": "bool",
         "type": "boolean"
        }
       ],
       "ref": "dfaa27df-73a8-4991-a992-f7ca4eb5b12e",
       "rows": [
        [
         "77",
         "àkúpe  ̣́",
         "fan. àkwàn 3",
         "True"
        ],
        [
         "117",
         "àshásọ",
         "rag. áshíwín 4",
         "True"
        ],
        [
         "154",
         "àze  ̣́n",
         "witch. ba ba mì lílá 5 B - b",
         "True"
        ],
        [
         "191",
         "bù",
         "twinkle. búkú 6",
         "True"
        ],
        [
         "194",
         "bùwálẹ̀",
         "lessen. cháchá 7 C - c",
         "True"
        ],
        [
         "197",
         "chinch",
         "bedbug. dà 8 D - d",
         "True"
        ],
        [
         "309",
         "ézìnzìn",
         "stable. e bíbì 3 Ẹ - ẹ",
         "True"
        ],
        [
         "347",
         "e  ̣́ghíghó",
         "boil. ẹ́ ghó àyáká 4",
         "True"
        ],
        [
         "387",
         "ẹnẹte  ̣́dó",
         "lover. e ne wíwe ̣́n 5",
         "True"
        ],
        [
         "424",
         "ẹnísọ́  ghò",
         "examiner. e nísózúmézìn 6",
         "True"
        ],
        [
         "457",
         "ẹnùre  ̣̀n",
         "traveller. e núse ̣́ 7",
         "True"
        ],
        [
         "537",
         "fún",
         "untie. gèdè 2 G - g",
         "True"
        ],
        [
         "543",
         "gún",
         "stab. gbá 3 GB -gb",
         "True"
        ],
        [
         "577",
         "gbígbin",
         "blunt. gbígbin 4",
         "True"
        ],
        [
         "591",
         "gbúse  ̣́",
         "forced labour. ghá 5 GH-gh",
         "True"
        ],
        [
         "629",
         "gwúó",
         "shatter. há 7 H - h",
         "True"
        ],
        [
         "666",
         "hùe  ̣̀re  ̣̀hùe  ̣̀re  ̣̀",
         "soft. hún e ̣́fun 8",
         "True"
        ],
        [
         "668",
         "huọmáne",
         "frame. ibà 9 I - i",
         "True"
        ],
        [
         "710",
         "ihe  ̣́n",
         "now. ihú 10",
         "True"
        ],
        [
         "790",
         "ìyàdó",
         "dwelling site. iyàn zize 12",
         "True"
        ],
        [
         "805",
         "izokotokpo",
         "shrimp. jíje 13 J - j",
         "True"
        ],
        [
         "807",
         "jíjè",
         "compare. kà 14 K - k",
         "True"
        ],
        [
         "843",
         "kókòró",
         "clear out. kókpò 15",
         "True"
        ],
        [
         "883",
         "kpúrú",
         "short. kwapó 17 KW-kw",
         "True"
        ],
        [
         "885",
         "kwo  ̣̀ro  ̣̀",
         "faint. là 18 L - l",
         "True"
        ],
        [
         "905",
         "lù",
         "ring. má ìfúrú 19 M - m",
         "True"
        ],
        [
         "936",
         "me  ̣́gwá",
         "ten. me ̣́gwáléo ̣́gbọ́ 20",
         "True"
        ],
        [
         "970",
         "múkòró",
         "subtract. múkpàkè 21",
         "True"
        ],
        [
         "984",
         "múwá",
         "fetch. ná 22 N - n",
         "True"
        ],
        [
         "1017",
         "núrún gede",
         "ó ne ne kòkò 23 O - o",
         "True"
        ],
        [
         "1050",
         "okè ózú",
         "eye lid. òkè 24",
         "True"
        ],
        [
         "1164",
         "ózúzú",
         "wound. o be 27 Ọ-ọ",
         "True"
        ],
        [
         "1232",
         "ọmómàne  ̣́bámàne  ̣́ye",
         "orphan. ọmoníle ̣̀ adj. aboriginal",
         "True"
        ],
        [
         "1236",
         "o  ̣̀nà tólo  ̣́",
         "serpentine. o nà 29",
         "True"
        ],
        [
         "1257",
         "o  ̣̀zùo  ̣̀",
         "stupid. rà 30 R-r",
         "True"
        ],
        [
         "1298",
         "rúbí",
         "plot. rún 31",
         "True"
        ],
        [
         "1300",
         "rùn",
         "stink. sà 32 S - s",
         "True"
        ],
        [
         "1339",
         "súsú ẹrun",
         "kiss. shín 33 SH - sh",
         "True"
        ],
        [
         "1346",
         "sho",
         "settle. tà 34 T-t",
         "True"
        ],
        [
         "1392",
         "túnse",
         "sort out. túrenè 35",
         "True"
        ],
        [
         "1398",
         "tutùn",
         "wet. úbalo 36 U-u",
         "True"
        ],
        [
         "1437",
         "úharì",
         "well. ùhe títe mo 37",
         "True"
        ],
        [
         "1475",
         "ulághẹrẹ",
         "canopy. ulàkpákpa 38",
         "True"
        ],
        [
         "1514",
         "úrò",
         "ape. úro 39",
         "True"
        ],
        [
         "1546",
         "urun tánẹ́",
         "possession. urun tázẹ́ wá 40",
         "True"
        ],
        [
         "1582",
         "úzó",
         "dance. wá 41 W-w",
         "True"
        ],
        [
         "1607",
         "wúsòdúá",
         "expectorate. yà 42 Y-y",
         "True"
        ],
        [
         "1644",
         "yo  ̣̀yì",
         "insert. zàká 43 Z-z",
         "True"
        ]
       ],
       "shape": {
        "columns": 3,
        "rows": 48
       }
      },
      "text/html": [
       "<div>\n",
       "<style scoped>\n",
       "    .dataframe tbody tr th:only-of-type {\n",
       "        vertical-align: middle;\n",
       "    }\n",
       "\n",
       "    .dataframe tbody tr th {\n",
       "        vertical-align: top;\n",
       "    }\n",
       "\n",
       "    .dataframe thead th {\n",
       "        text-align: right;\n",
       "    }\n",
       "</style>\n",
       "<table border=\"1\" class=\"dataframe\">\n",
       "  <thead>\n",
       "    <tr style=\"text-align: right;\">\n",
       "      <th></th>\n",
       "      <th>local_word</th>\n",
       "      <th>english_meaning</th>\n",
       "      <th>has_accented</th>\n",
       "    </tr>\n",
       "  </thead>\n",
       "  <tbody>\n",
       "    <tr>\n",
       "      <th>77</th>\n",
       "      <td>àkúpe  ̣́</td>\n",
       "      <td>fan. àkwàn 3</td>\n",
       "      <td>True</td>\n",
       "    </tr>\n",
       "    <tr>\n",
       "      <th>117</th>\n",
       "      <td>àshásọ</td>\n",
       "      <td>rag. áshíwín 4</td>\n",
       "      <td>True</td>\n",
       "    </tr>\n",
       "    <tr>\n",
       "      <th>154</th>\n",
       "      <td>àze  ̣́n</td>\n",
       "      <td>witch. ba ba mì lílá 5 B - b</td>\n",
       "      <td>True</td>\n",
       "    </tr>\n",
       "    <tr>\n",
       "      <th>191</th>\n",
       "      <td>bù</td>\n",
       "      <td>twinkle. búkú 6</td>\n",
       "      <td>True</td>\n",
       "    </tr>\n",
       "    <tr>\n",
       "      <th>194</th>\n",
       "      <td>bùwálẹ̀</td>\n",
       "      <td>lessen. cháchá 7 C - c</td>\n",
       "      <td>True</td>\n",
       "    </tr>\n",
       "    <tr>\n",
       "      <th>197</th>\n",
       "      <td>chinch</td>\n",
       "      <td>bedbug. dà 8 D - d</td>\n",
       "      <td>True</td>\n",
       "    </tr>\n",
       "    <tr>\n",
       "      <th>309</th>\n",
       "      <td>ézìnzìn</td>\n",
       "      <td>stable. e bíbì 3 Ẹ - ẹ</td>\n",
       "      <td>True</td>\n",
       "    </tr>\n",
       "    <tr>\n",
       "      <th>347</th>\n",
       "      <td>e  ̣́ghíghó</td>\n",
       "      <td>boil. ẹ́ ghó àyáká 4</td>\n",
       "      <td>True</td>\n",
       "    </tr>\n",
       "    <tr>\n",
       "      <th>387</th>\n",
       "      <td>ẹnẹte  ̣́dó</td>\n",
       "      <td>lover. e ne wíwe ̣́n 5</td>\n",
       "      <td>True</td>\n",
       "    </tr>\n",
       "    <tr>\n",
       "      <th>424</th>\n",
       "      <td>ẹnísọ́  ghò</td>\n",
       "      <td>examiner. e nísózúmézìn 6</td>\n",
       "      <td>True</td>\n",
       "    </tr>\n",
       "    <tr>\n",
       "      <th>457</th>\n",
       "      <td>ẹnùre  ̣̀n</td>\n",
       "      <td>traveller. e núse ̣́ 7</td>\n",
       "      <td>True</td>\n",
       "    </tr>\n",
       "    <tr>\n",
       "      <th>537</th>\n",
       "      <td>fún</td>\n",
       "      <td>untie. gèdè 2 G - g</td>\n",
       "      <td>True</td>\n",
       "    </tr>\n",
       "    <tr>\n",
       "      <th>543</th>\n",
       "      <td>gún</td>\n",
       "      <td>stab. gbá 3 GB -gb</td>\n",
       "      <td>True</td>\n",
       "    </tr>\n",
       "    <tr>\n",
       "      <th>577</th>\n",
       "      <td>gbígbin</td>\n",
       "      <td>blunt. gbígbin 4</td>\n",
       "      <td>True</td>\n",
       "    </tr>\n",
       "    <tr>\n",
       "      <th>591</th>\n",
       "      <td>gbúse  ̣́</td>\n",
       "      <td>forced labour. ghá 5 GH-gh</td>\n",
       "      <td>True</td>\n",
       "    </tr>\n",
       "    <tr>\n",
       "      <th>629</th>\n",
       "      <td>gwúó</td>\n",
       "      <td>shatter. há 7 H - h</td>\n",
       "      <td>True</td>\n",
       "    </tr>\n",
       "    <tr>\n",
       "      <th>666</th>\n",
       "      <td>hùe  ̣̀re  ̣̀hùe  ̣̀re  ̣̀</td>\n",
       "      <td>soft. hún e ̣́fun 8</td>\n",
       "      <td>True</td>\n",
       "    </tr>\n",
       "    <tr>\n",
       "      <th>668</th>\n",
       "      <td>huọmáne</td>\n",
       "      <td>frame. ibà 9 I - i</td>\n",
       "      <td>True</td>\n",
       "    </tr>\n",
       "    <tr>\n",
       "      <th>710</th>\n",
       "      <td>ihe  ̣́n</td>\n",
       "      <td>now. ihú 10</td>\n",
       "      <td>True</td>\n",
       "    </tr>\n",
       "    <tr>\n",
       "      <th>790</th>\n",
       "      <td>ìyàdó</td>\n",
       "      <td>dwelling site. iyàn zize 12</td>\n",
       "      <td>True</td>\n",
       "    </tr>\n",
       "    <tr>\n",
       "      <th>805</th>\n",
       "      <td>izokotokpo</td>\n",
       "      <td>shrimp. jíje 13 J - j</td>\n",
       "      <td>True</td>\n",
       "    </tr>\n",
       "    <tr>\n",
       "      <th>807</th>\n",
       "      <td>jíjè</td>\n",
       "      <td>compare. kà 14 K - k</td>\n",
       "      <td>True</td>\n",
       "    </tr>\n",
       "    <tr>\n",
       "      <th>843</th>\n",
       "      <td>kókòró</td>\n",
       "      <td>clear out. kókpò 15</td>\n",
       "      <td>True</td>\n",
       "    </tr>\n",
       "    <tr>\n",
       "      <th>883</th>\n",
       "      <td>kpúrú</td>\n",
       "      <td>short. kwapó 17 KW-kw</td>\n",
       "      <td>True</td>\n",
       "    </tr>\n",
       "    <tr>\n",
       "      <th>885</th>\n",
       "      <td>kwo  ̣̀ro  ̣̀</td>\n",
       "      <td>faint. là 18 L - l</td>\n",
       "      <td>True</td>\n",
       "    </tr>\n",
       "    <tr>\n",
       "      <th>905</th>\n",
       "      <td>lù</td>\n",
       "      <td>ring. má ìfúrú 19 M - m</td>\n",
       "      <td>True</td>\n",
       "    </tr>\n",
       "    <tr>\n",
       "      <th>936</th>\n",
       "      <td>me  ̣́gwá</td>\n",
       "      <td>ten. me ̣́gwáléo ̣́gbọ́ 20</td>\n",
       "      <td>True</td>\n",
       "    </tr>\n",
       "    <tr>\n",
       "      <th>970</th>\n",
       "      <td>múkòró</td>\n",
       "      <td>subtract. múkpàkè 21</td>\n",
       "      <td>True</td>\n",
       "    </tr>\n",
       "    <tr>\n",
       "      <th>984</th>\n",
       "      <td>múwá</td>\n",
       "      <td>fetch. ná 22 N - n</td>\n",
       "      <td>True</td>\n",
       "    </tr>\n",
       "    <tr>\n",
       "      <th>1017</th>\n",
       "      <td>núrún gede</td>\n",
       "      <td>ó ne ne kòkò 23 O - o</td>\n",
       "      <td>True</td>\n",
       "    </tr>\n",
       "    <tr>\n",
       "      <th>1050</th>\n",
       "      <td>okè ózú</td>\n",
       "      <td>eye lid. òkè 24</td>\n",
       "      <td>True</td>\n",
       "    </tr>\n",
       "    <tr>\n",
       "      <th>1164</th>\n",
       "      <td>ózúzú</td>\n",
       "      <td>wound. o be 27 Ọ-ọ</td>\n",
       "      <td>True</td>\n",
       "    </tr>\n",
       "    <tr>\n",
       "      <th>1232</th>\n",
       "      <td>ọmómàne  ̣́bámàne  ̣́ye</td>\n",
       "      <td>orphan. ọmoníle ̣̀ adj. aboriginal</td>\n",
       "      <td>True</td>\n",
       "    </tr>\n",
       "    <tr>\n",
       "      <th>1236</th>\n",
       "      <td>o  ̣̀nà tólo  ̣́</td>\n",
       "      <td>serpentine. o nà 29</td>\n",
       "      <td>True</td>\n",
       "    </tr>\n",
       "    <tr>\n",
       "      <th>1257</th>\n",
       "      <td>o  ̣̀zùo  ̣̀</td>\n",
       "      <td>stupid. rà 30 R-r</td>\n",
       "      <td>True</td>\n",
       "    </tr>\n",
       "    <tr>\n",
       "      <th>1298</th>\n",
       "      <td>rúbí</td>\n",
       "      <td>plot. rún 31</td>\n",
       "      <td>True</td>\n",
       "    </tr>\n",
       "    <tr>\n",
       "      <th>1300</th>\n",
       "      <td>rùn</td>\n",
       "      <td>stink. sà 32 S - s</td>\n",
       "      <td>True</td>\n",
       "    </tr>\n",
       "    <tr>\n",
       "      <th>1339</th>\n",
       "      <td>súsú ẹrun</td>\n",
       "      <td>kiss. shín 33 SH - sh</td>\n",
       "      <td>True</td>\n",
       "    </tr>\n",
       "    <tr>\n",
       "      <th>1346</th>\n",
       "      <td>sho</td>\n",
       "      <td>settle. tà 34 T-t</td>\n",
       "      <td>True</td>\n",
       "    </tr>\n",
       "    <tr>\n",
       "      <th>1392</th>\n",
       "      <td>túnse</td>\n",
       "      <td>sort out. túrenè 35</td>\n",
       "      <td>True</td>\n",
       "    </tr>\n",
       "    <tr>\n",
       "      <th>1398</th>\n",
       "      <td>tutùn</td>\n",
       "      <td>wet. úbalo 36 U-u</td>\n",
       "      <td>True</td>\n",
       "    </tr>\n",
       "    <tr>\n",
       "      <th>1437</th>\n",
       "      <td>úharì</td>\n",
       "      <td>well. ùhe títe mo 37</td>\n",
       "      <td>True</td>\n",
       "    </tr>\n",
       "    <tr>\n",
       "      <th>1475</th>\n",
       "      <td>ulághẹrẹ</td>\n",
       "      <td>canopy. ulàkpákpa 38</td>\n",
       "      <td>True</td>\n",
       "    </tr>\n",
       "    <tr>\n",
       "      <th>1514</th>\n",
       "      <td>úrò</td>\n",
       "      <td>ape. úro 39</td>\n",
       "      <td>True</td>\n",
       "    </tr>\n",
       "    <tr>\n",
       "      <th>1546</th>\n",
       "      <td>urun tánẹ́</td>\n",
       "      <td>possession. urun tázẹ́ wá 40</td>\n",
       "      <td>True</td>\n",
       "    </tr>\n",
       "    <tr>\n",
       "      <th>1582</th>\n",
       "      <td>úzó</td>\n",
       "      <td>dance. wá 41 W-w</td>\n",
       "      <td>True</td>\n",
       "    </tr>\n",
       "    <tr>\n",
       "      <th>1607</th>\n",
       "      <td>wúsòdúá</td>\n",
       "      <td>expectorate. yà 42 Y-y</td>\n",
       "      <td>True</td>\n",
       "    </tr>\n",
       "    <tr>\n",
       "      <th>1644</th>\n",
       "      <td>yo  ̣̀yì</td>\n",
       "      <td>insert. zàká 43 Z-z</td>\n",
       "      <td>True</td>\n",
       "    </tr>\n",
       "  </tbody>\n",
       "</table>\n",
       "</div>"
      ],
      "text/plain": [
       "                        local_word                       english_meaning  \\\n",
       "77                     àkúpe  ̣́                        fan. àkwàn 3   \n",
       "117                      àshásọ                     rag. áshíwín 4   \n",
       "154                      àze  ̣́n       witch. ba ba mì lílá 5 B - b   \n",
       "191                            bù                     twinkle. búkú 6   \n",
       "194                     bùwálẹ̀              lessen. cháchá 7 C - c   \n",
       "197                         chinch                   bedbug. dà 8 D - d   \n",
       "309                     ézìnzìn            stable. e bíbì 3 Ẹ - ẹ   \n",
       "347                  e  ̣́ghíghó             boil. ẹ́ ghó àyáká 4   \n",
       "387                 ẹnẹte  ̣́dó               lover. e ne wíwe ̣́n 5   \n",
       "424                ẹnísọ́  ghò        examiner. e nísózúmézìn 6   \n",
       "457                   ẹnùre  ̣̀n               traveller. e núse ̣́ 7   \n",
       "537                           fún                 untie. gèdè 2 G - g   \n",
       "543                           gún                   stab. gbá 3 GB -gb   \n",
       "577                       gbígbin                     blunt. gbígbin 4   \n",
       "591                     gbúse  ̣́           forced labour. ghá 5 GH-gh   \n",
       "629                         gwúó                  shatter. há 7 H - h   \n",
       "666   hùe  ̣̀re  ̣̀hùe  ̣̀re  ̣̀                  soft. hún e ̣́fun 8   \n",
       "668                      huọmáne                   frame. ibà 9 I - i   \n",
       "710                       ihe  ̣́n                          now. ihú 10   \n",
       "790                       ìyàdó          dwelling site. iyàn zize 12   \n",
       "805                     izokotokpo                shrimp. jíje 13 J - j   \n",
       "807                         jíjè                 compare. kà 14 K - k   \n",
       "843                      kókòró                 clear out. kókpò 15   \n",
       "883                        kpúrú                short. kwapó 17 KW-kw   \n",
       "885                  kwo  ̣̀ro  ̣̀                   faint. là 18 L - l   \n",
       "905                            lù           ring. má ìfúrú 19 M - m   \n",
       "936                     me  ̣́gwá         ten. me ̣́gwáléo ̣́gbọ́ 20   \n",
       "970                      múkòró               subtract. múkpàkè 21   \n",
       "984                         múwá                   fetch. ná 22 N - n   \n",
       "1017                  núrún gede              ó ne ne kòkò 23 O - o   \n",
       "1050                    okè ózú                     eye lid. òkè 24   \n",
       "1164                      ózúzú                  wound. o be 27 Ọ-ọ   \n",
       "1232  ọmómàne  ̣́bámàne  ̣́ye  orphan. ọmoníle ̣̀ adj. aboriginal   \n",
       "1236            o  ̣̀nà tólo  ̣́                  serpentine. o nà 29   \n",
       "1257                 o  ̣̀zùo  ̣̀                    stupid. rà 30 R-r   \n",
       "1298                        rúbí                         plot. rún 31   \n",
       "1300                          rùn                   stink. sà 32 S - s   \n",
       "1339                  súsú ẹrun                kiss. shín 33 SH - sh   \n",
       "1346                           sho                    settle. tà 34 T-t   \n",
       "1392                        túnse                 sort out. túrenè 35   \n",
       "1398                        tutùn                    wet. úbalo 36 U-u   \n",
       "1437                       úharì                well. ùhe títe mo 37   \n",
       "1475                   ulághẹrẹ                canopy. ulàkpákpa 38   \n",
       "1514                         úrò                          ape. úro 39   \n",
       "1546                  urun tánẹ́       possession. urun tázẹ́ wá 40   \n",
       "1582                         úzó                     dance. wá 41 W-w   \n",
       "1607                   wúsòdúá               expectorate. yà 42 Y-y   \n",
       "1644                     yo  ̣̀yì                 insert. zàká 43 Z-z   \n",
       "\n",
       "      has_accented  \n",
       "77            True  \n",
       "117           True  \n",
       "154           True  \n",
       "191           True  \n",
       "194           True  \n",
       "197           True  \n",
       "309           True  \n",
       "347           True  \n",
       "387           True  \n",
       "424           True  \n",
       "457           True  \n",
       "537           True  \n",
       "543           True  \n",
       "577           True  \n",
       "591           True  \n",
       "629           True  \n",
       "666           True  \n",
       "668           True  \n",
       "710           True  \n",
       "790           True  \n",
       "805           True  \n",
       "807           True  \n",
       "843           True  \n",
       "883           True  \n",
       "885           True  \n",
       "905           True  \n",
       "936           True  \n",
       "970           True  \n",
       "984           True  \n",
       "1017          True  \n",
       "1050          True  \n",
       "1164          True  \n",
       "1232          True  \n",
       "1236          True  \n",
       "1257          True  \n",
       "1298          True  \n",
       "1300          True  \n",
       "1339          True  \n",
       "1346          True  \n",
       "1392          True  \n",
       "1398          True  \n",
       "1437          True  \n",
       "1475          True  \n",
       "1514          True  \n",
       "1546          True  \n",
       "1582          True  \n",
       "1607          True  \n",
       "1644          True  "
      ]
     },
     "execution_count": 38,
     "metadata": {},
     "output_type": "execute_result"
    }
   ],
   "source": [
    "#Removing Rows where the English column contains Local words\n",
    "\n",
    "import unicodedata\n",
    "\n",
    "# Making sure all entries in the \"English Meaning\" column are treated as strings\n",
    "df['english_meaning'] = df['english_meaning'].astype(str)\n",
    "\n",
    "# Function to detect accented characters in a word\n",
    "def contains_accented(word):\n",
    "    # Decompose characters into base and accent using Unicode normalization\n",
    "    normalized = unicodedata.normalize('NFD', word)\n",
    "    # Return True if any decomposed character is a nonspacing mark (i.e., accent)\n",
    "    return any(char for char in normalized if unicodedata.category(char) == 'Mn')\n",
    "\n",
    "# Check each word in the column for accents and store result in a new column\n",
    "df_expanded['has_accented'] = df_expanded['english_meaning'].apply(contains_accented)\n",
    "\n",
    "df_expanded[df_expanded['has_accented']==True]"
   ]
  },
  {
   "cell_type": "code",
   "execution_count": 39,
   "id": "6b6ddcc53149dcac",
   "metadata": {
    "ExecuteTime": {
     "end_time": "2025-08-05T22:40:35.060431Z",
     "start_time": "2025-08-05T22:40:35.034429Z"
    }
   },
   "outputs": [
    {
     "data": {
      "application/vnd.microsoft.datawrangler.viewer.v0+json": {
       "columns": [
        {
         "name": "index",
         "rawType": "int64",
         "type": "integer"
        },
        {
         "name": "local_word",
         "rawType": "object",
         "type": "string"
        },
        {
         "name": "english_meaning",
         "rawType": "object",
         "type": "string"
        },
        {
         "name": "has_accented",
         "rawType": "bool",
         "type": "boolean"
        }
       ],
       "ref": "35e82e52-3aaa-4dde-989b-42ba9618c75a",
       "rows": [],
       "shape": {
        "columns": 3,
        "rows": 0
       }
      },
      "text/html": [
       "<div>\n",
       "<style scoped>\n",
       "    .dataframe tbody tr th:only-of-type {\n",
       "        vertical-align: middle;\n",
       "    }\n",
       "\n",
       "    .dataframe tbody tr th {\n",
       "        vertical-align: top;\n",
       "    }\n",
       "\n",
       "    .dataframe thead th {\n",
       "        text-align: right;\n",
       "    }\n",
       "</style>\n",
       "<table border=\"1\" class=\"dataframe\">\n",
       "  <thead>\n",
       "    <tr style=\"text-align: right;\">\n",
       "      <th></th>\n",
       "      <th>local_word</th>\n",
       "      <th>english_meaning</th>\n",
       "      <th>has_accented</th>\n",
       "    </tr>\n",
       "  </thead>\n",
       "  <tbody>\n",
       "  </tbody>\n",
       "</table>\n",
       "</div>"
      ],
      "text/plain": [
       "Empty DataFrame\n",
       "Columns: [local_word, english_meaning, has_accented]\n",
       "Index: []"
      ]
     },
     "execution_count": 39,
     "metadata": {},
     "output_type": "execute_result"
    }
   ],
   "source": [
    "# Removing all rows where an accented character was found\n",
    "df_cleaned = df_expanded[~df_expanded['has_accented']].copy()\n",
    "\n",
    "#Making sure all accented characters have been cleaned from the\n",
    "df_cleaned[df_cleaned['has_accented']==True]"
   ]
  },
  {
   "cell_type": "code",
   "execution_count": 40,
   "id": "928d101c1b35b250",
   "metadata": {
    "ExecuteTime": {
     "end_time": "2025-08-05T22:40:35.152116Z",
     "start_time": "2025-08-05T22:40:35.119315Z"
    }
   },
   "outputs": [
    {
     "data": {
      "application/vnd.microsoft.datawrangler.viewer.v0+json": {
       "columns": [
        {
         "name": "index",
         "rawType": "int64",
         "type": "integer"
        },
        {
         "name": "local_word",
         "rawType": "object",
         "type": "string"
        },
        {
         "name": "english_meaning",
         "rawType": "object",
         "type": "string"
        },
        {
         "name": "has_accented",
         "rawType": "bool",
         "type": "boolean"
        }
       ],
       "ref": "7382e218-6a85-43cd-984d-85274814389a",
       "rows": [
        [
         "765",
         "ishara",
         "ear of corn",
         "False"
        ],
        [
         "1226",
         "ọmobìnrẹn",
         "daughter",
         "False"
        ],
        [
         "1473",
         "ùlà",
         "brand",
         "False"
        ],
        [
         "1667",
         "zùyà",
         "suffer. View publication stats",
         "False"
        ]
       ],
       "shape": {
        "columns": 3,
        "rows": 4
       }
      },
      "text/html": [
       "<div>\n",
       "<style scoped>\n",
       "    .dataframe tbody tr th:only-of-type {\n",
       "        vertical-align: middle;\n",
       "    }\n",
       "\n",
       "    .dataframe tbody tr th {\n",
       "        vertical-align: top;\n",
       "    }\n",
       "\n",
       "    .dataframe thead th {\n",
       "        text-align: right;\n",
       "    }\n",
       "</style>\n",
       "<table border=\"1\" class=\"dataframe\">\n",
       "  <thead>\n",
       "    <tr style=\"text-align: right;\">\n",
       "      <th></th>\n",
       "      <th>local_word</th>\n",
       "      <th>english_meaning</th>\n",
       "      <th>has_accented</th>\n",
       "    </tr>\n",
       "  </thead>\n",
       "  <tbody>\n",
       "    <tr>\n",
       "      <th>765</th>\n",
       "      <td>ishara</td>\n",
       "      <td>ear of corn</td>\n",
       "      <td>False</td>\n",
       "    </tr>\n",
       "    <tr>\n",
       "      <th>1226</th>\n",
       "      <td>ọmobìnrẹn</td>\n",
       "      <td>daughter</td>\n",
       "      <td>False</td>\n",
       "    </tr>\n",
       "    <tr>\n",
       "      <th>1473</th>\n",
       "      <td>ùlà</td>\n",
       "      <td>brand</td>\n",
       "      <td>False</td>\n",
       "    </tr>\n",
       "    <tr>\n",
       "      <th>1667</th>\n",
       "      <td>zùyà</td>\n",
       "      <td>suffer. View publication stats</td>\n",
       "      <td>False</td>\n",
       "    </tr>\n",
       "  </tbody>\n",
       "</table>\n",
       "</div>"
      ],
      "text/plain": [
       "        local_word                 english_meaning  has_accented\n",
       "765         ishara                     ear of corn         False\n",
       "1226  ọmobìnrẹn                        daughter         False\n",
       "1473         ùlà                           brand         False\n",
       "1667        zùyà  suffer. View publication stats         False"
      ]
     },
     "execution_count": 40,
     "metadata": {},
     "output_type": "execute_result"
    }
   ],
   "source": [
    "#Isolating erroneous rows after manual inspection\n",
    "df_cleaned.iloc[[909, 1459, 1752, -1]]"
   ]
  },
  {
   "cell_type": "code",
   "execution_count": 42,
   "id": "ee978955e2bc80d3",
   "metadata": {
    "ExecuteTime": {
     "end_time": "2025-08-05T22:40:35.204475Z",
     "start_time": "2025-08-05T22:40:35.192131Z"
    }
   },
   "outputs": [],
   "source": [
    "df_cleaned.loc[1459, 'english_meaning'] = df_cleaned.loc[1459, 'english_meaning'].split('.')[0].strip()"
   ]
  },
  {
   "cell_type": "code",
   "execution_count": 43,
   "id": "d3adaad3863c11b5",
   "metadata": {
    "ExecuteTime": {
     "end_time": "2025-08-05T22:40:35.244722Z",
     "start_time": "2025-08-05T22:40:35.222488Z"
    }
   },
   "outputs": [
    {
     "data": {
      "application/vnd.microsoft.datawrangler.viewer.v0+json": {
       "columns": [
        {
         "name": "index",
         "rawType": "int64",
         "type": "integer"
        },
        {
         "name": "local_word",
         "rawType": "object",
         "type": "string"
        },
        {
         "name": "english_meaning",
         "rawType": "object",
         "type": "string"
        },
        {
         "name": "has_accented",
         "rawType": "bool",
         "type": "boolean"
        }
       ],
       "ref": "545049cb-a755-45ac-8871-df10da55588c",
       "rows": [
        [
         "765",
         "ishara",
         "ear of corn",
         "False"
        ],
        [
         "1226",
         "ọmobìnrẹn",
         "daughter",
         "False"
        ],
        [
         "1473",
         "ùlà",
         "brand",
         "False"
        ],
        [
         "1667",
         "zùyà",
         "suffer. View publication stats",
         "False"
        ]
       ],
       "shape": {
        "columns": 3,
        "rows": 4
       }
      },
      "text/html": [
       "<div>\n",
       "<style scoped>\n",
       "    .dataframe tbody tr th:only-of-type {\n",
       "        vertical-align: middle;\n",
       "    }\n",
       "\n",
       "    .dataframe tbody tr th {\n",
       "        vertical-align: top;\n",
       "    }\n",
       "\n",
       "    .dataframe thead th {\n",
       "        text-align: right;\n",
       "    }\n",
       "</style>\n",
       "<table border=\"1\" class=\"dataframe\">\n",
       "  <thead>\n",
       "    <tr style=\"text-align: right;\">\n",
       "      <th></th>\n",
       "      <th>local_word</th>\n",
       "      <th>english_meaning</th>\n",
       "      <th>has_accented</th>\n",
       "    </tr>\n",
       "  </thead>\n",
       "  <tbody>\n",
       "    <tr>\n",
       "      <th>765</th>\n",
       "      <td>ishara</td>\n",
       "      <td>ear of corn</td>\n",
       "      <td>False</td>\n",
       "    </tr>\n",
       "    <tr>\n",
       "      <th>1226</th>\n",
       "      <td>ọmobìnrẹn</td>\n",
       "      <td>daughter</td>\n",
       "      <td>False</td>\n",
       "    </tr>\n",
       "    <tr>\n",
       "      <th>1473</th>\n",
       "      <td>ùlà</td>\n",
       "      <td>brand</td>\n",
       "      <td>False</td>\n",
       "    </tr>\n",
       "    <tr>\n",
       "      <th>1667</th>\n",
       "      <td>zùyà</td>\n",
       "      <td>suffer. View publication stats</td>\n",
       "      <td>False</td>\n",
       "    </tr>\n",
       "  </tbody>\n",
       "</table>\n",
       "</div>"
      ],
      "text/plain": [
       "        local_word                 english_meaning  has_accented\n",
       "765         ishara                     ear of corn         False\n",
       "1226  ọmobìnrẹn                        daughter         False\n",
       "1473         ùlà                           brand         False\n",
       "1667        zùyà  suffer. View publication stats         False"
      ]
     },
     "execution_count": 43,
     "metadata": {},
     "output_type": "execute_result"
    }
   ],
   "source": [
    "#Isolating erroneous rows after manual inspection\n",
    "df_cleaned.iloc[[909, 1459, 1752, -1]]"
   ]
  },
  {
   "cell_type": "code",
   "execution_count": 45,
   "id": "bfe8463a75a436db",
   "metadata": {
    "ExecuteTime": {
     "end_time": "2025-08-05T22:40:35.298500Z",
     "start_time": "2025-08-05T22:40:35.282417Z"
    }
   },
   "outputs": [],
   "source": [
    "df_cleaned.loc[df_cleaned[\"local_word\"] == \"irégúgún\", \"english_meaning\"] = \"ghost\"\n",
    "df_cleaned.loc[df_cleaned[\"local_word\"] == \"ọkọ\", \"english_meaning\"] = \"husband\"\n",
    "df_cleaned.loc[df_cleaned[\"local_word\"] == \"ùkán\", \"english_meaning\"] = \"different\"\n",
    "df_cleaned.loc[df_cleaned[\"local_word\"] == \"zùyà\", \"english_meaning\"] = \"suffer\""
   ]
  },
  {
   "cell_type": "code",
   "execution_count": 46,
   "id": "b746ad4c3bad7b1f",
   "metadata": {
    "ExecuteTime": {
     "end_time": "2025-08-05T22:40:35.341634Z",
     "start_time": "2025-08-05T22:40:35.316447Z"
    }
   },
   "outputs": [
    {
     "data": {
      "application/vnd.microsoft.datawrangler.viewer.v0+json": {
       "columns": [
        {
         "name": "index",
         "rawType": "int64",
         "type": "integer"
        },
        {
         "name": "local_word",
         "rawType": "object",
         "type": "string"
        },
        {
         "name": "english_meaning",
         "rawType": "object",
         "type": "string"
        },
        {
         "name": "has_accented",
         "rawType": "bool",
         "type": "boolean"
        }
       ],
       "ref": "58018136-48de-4ae7-b2e7-4d9fda70a152",
       "rows": [
        [
         "765",
         "ishara",
         "ear of corn",
         "False"
        ],
        [
         "1226",
         "ọmobìnrẹn",
         "daughter",
         "False"
        ],
        [
         "1473",
         "ùlà",
         "brand",
         "False"
        ],
        [
         "1667",
         "zùyà",
         "suffer",
         "False"
        ]
       ],
       "shape": {
        "columns": 3,
        "rows": 4
       }
      },
      "text/html": [
       "<div>\n",
       "<style scoped>\n",
       "    .dataframe tbody tr th:only-of-type {\n",
       "        vertical-align: middle;\n",
       "    }\n",
       "\n",
       "    .dataframe tbody tr th {\n",
       "        vertical-align: top;\n",
       "    }\n",
       "\n",
       "    .dataframe thead th {\n",
       "        text-align: right;\n",
       "    }\n",
       "</style>\n",
       "<table border=\"1\" class=\"dataframe\">\n",
       "  <thead>\n",
       "    <tr style=\"text-align: right;\">\n",
       "      <th></th>\n",
       "      <th>local_word</th>\n",
       "      <th>english_meaning</th>\n",
       "      <th>has_accented</th>\n",
       "    </tr>\n",
       "  </thead>\n",
       "  <tbody>\n",
       "    <tr>\n",
       "      <th>765</th>\n",
       "      <td>ishara</td>\n",
       "      <td>ear of corn</td>\n",
       "      <td>False</td>\n",
       "    </tr>\n",
       "    <tr>\n",
       "      <th>1226</th>\n",
       "      <td>ọmobìnrẹn</td>\n",
       "      <td>daughter</td>\n",
       "      <td>False</td>\n",
       "    </tr>\n",
       "    <tr>\n",
       "      <th>1473</th>\n",
       "      <td>ùlà</td>\n",
       "      <td>brand</td>\n",
       "      <td>False</td>\n",
       "    </tr>\n",
       "    <tr>\n",
       "      <th>1667</th>\n",
       "      <td>zùyà</td>\n",
       "      <td>suffer</td>\n",
       "      <td>False</td>\n",
       "    </tr>\n",
       "  </tbody>\n",
       "</table>\n",
       "</div>"
      ],
      "text/plain": [
       "        local_word english_meaning  has_accented\n",
       "765         ishara     ear of corn         False\n",
       "1226  ọmobìnrẹn        daughter         False\n",
       "1473         ùlà           brand         False\n",
       "1667        zùyà          suffer         False"
      ]
     },
     "execution_count": 46,
     "metadata": {},
     "output_type": "execute_result"
    }
   ],
   "source": [
    "#Isolating erroneous rows after manual inspection\n",
    "df_cleaned.iloc[[909, 1459, 1752, -1]]"
   ]
  },
  {
   "cell_type": "code",
   "execution_count": 47,
   "id": "36be917dea33b7c0",
   "metadata": {
    "ExecuteTime": {
     "end_time": "2025-08-05T22:41:36.324865Z",
     "start_time": "2025-08-05T22:41:36.290807Z"
    }
   },
   "outputs": [],
   "source": [
    "df_cleaned = df_cleaned.drop_duplicates()"
   ]
  },
  {
   "cell_type": "code",
   "execution_count": 49,
   "id": "8f4a7f59264a1919",
   "metadata": {
    "ExecuteTime": {
     "end_time": "2025-08-05T22:41:52.820842Z",
     "start_time": "2025-08-05T22:41:52.785841Z"
    }
   },
   "outputs": [
    {
     "data": {
      "text/plain": [
       "(1980, 3)"
      ]
     },
     "execution_count": 49,
     "metadata": {},
     "output_type": "execute_result"
    }
   ],
   "source": [
    "df_cleaned['english_meaning'] = df_cleaned['english_meaning'].str.lower()\n",
    "df_cleaned.shape"
   ]
  },
  {
   "cell_type": "code",
   "execution_count": 50,
   "id": "b006bf14c6b5dd20",
   "metadata": {
    "ExecuteTime": {
     "end_time": "2025-08-05T22:42:01.820376Z",
     "start_time": "2025-08-05T22:42:01.809060Z"
    }
   },
   "outputs": [],
   "source": [
    "# Drop the temporary helper column and reset row index\n",
    "df_cleaned.drop(columns=['has_accented'], inplace=True)\n",
    "df_cleaned.reset_index(drop=True, inplace=True)"
   ]
  },
  {
   "cell_type": "code",
   "execution_count": 51,
   "id": "13c98cbc429eb299",
   "metadata": {
    "ExecuteTime": {
     "end_time": "2025-08-05T22:42:18.264674Z",
     "start_time": "2025-08-05T22:42:18.250357Z"
    }
   },
   "outputs": [
    {
     "data": {
      "application/vnd.microsoft.datawrangler.viewer.v0+json": {
       "columns": [
        {
         "name": "index",
         "rawType": "int64",
         "type": "integer"
        },
        {
         "name": "local_word",
         "rawType": "object",
         "type": "string"
        },
        {
         "name": "english_meaning",
         "rawType": "object",
         "type": "string"
        }
       ],
       "ref": "9ef781de-3426-4d4e-ad7d-c24d17cd7584",
       "rows": [
        [
         "0",
         "ababe",
         "poison"
        ],
        [
         "1",
         "ábe  ̣́",
         "below"
        ],
        [
         "2",
         "ábe  ̣́",
         "bottom"
        ],
        [
         "3",
         "àbéké",
         "knife"
        ],
        [
         "4",
         "abọrọkpọ",
         "spinning wheel"
        ]
       ],
       "shape": {
        "columns": 2,
        "rows": 5
       }
      },
      "text/html": [
       "<div>\n",
       "<style scoped>\n",
       "    .dataframe tbody tr th:only-of-type {\n",
       "        vertical-align: middle;\n",
       "    }\n",
       "\n",
       "    .dataframe tbody tr th {\n",
       "        vertical-align: top;\n",
       "    }\n",
       "\n",
       "    .dataframe thead th {\n",
       "        text-align: right;\n",
       "    }\n",
       "</style>\n",
       "<table border=\"1\" class=\"dataframe\">\n",
       "  <thead>\n",
       "    <tr style=\"text-align: right;\">\n",
       "      <th></th>\n",
       "      <th>local_word</th>\n",
       "      <th>english_meaning</th>\n",
       "    </tr>\n",
       "  </thead>\n",
       "  <tbody>\n",
       "    <tr>\n",
       "      <th>0</th>\n",
       "      <td>ababe</td>\n",
       "      <td>poison</td>\n",
       "    </tr>\n",
       "    <tr>\n",
       "      <th>1</th>\n",
       "      <td>ábe  ̣́</td>\n",
       "      <td>below</td>\n",
       "    </tr>\n",
       "    <tr>\n",
       "      <th>2</th>\n",
       "      <td>ábe  ̣́</td>\n",
       "      <td>bottom</td>\n",
       "    </tr>\n",
       "    <tr>\n",
       "      <th>3</th>\n",
       "      <td>àbéké</td>\n",
       "      <td>knife</td>\n",
       "    </tr>\n",
       "    <tr>\n",
       "      <th>4</th>\n",
       "      <td>abọrọkpọ</td>\n",
       "      <td>spinning wheel</td>\n",
       "    </tr>\n",
       "  </tbody>\n",
       "</table>\n",
       "</div>"
      ],
      "text/plain": [
       "    local_word english_meaning\n",
       "0        ababe          poison\n",
       "1     ábe  ̣́           below\n",
       "2     ábe  ̣́          bottom\n",
       "3     àbéké           knife\n",
       "4  abọrọkpọ  spinning wheel"
      ]
     },
     "execution_count": 51,
     "metadata": {},
     "output_type": "execute_result"
    }
   ],
   "source": [
    "# Display the first few cleaned records\n",
    "df_cleaned.head()"
   ]
  },
  {
   "cell_type": "markdown",
   "id": "154bf5b4b8bbed37",
   "metadata": {},
   "source": [
    " Export Cleaned and Validated Data"
   ]
  },
  {
   "cell_type": "code",
   "execution_count": 52,
   "id": "a9c385486a0a345",
   "metadata": {
    "ExecuteTime": {
     "end_time": "2025-08-05T22:42:40.068183Z",
     "start_time": "2025-08-05T22:42:40.046445Z"
    }
   },
   "outputs": [],
   "source": [
    "df_cleaned.to_csv(\"final_olukumi_validated.csv\", index=False)"
   ]
  },
  {
   "cell_type": "code",
   "execution_count": null,
   "id": "fd9a7eb41d0cd4dc",
   "metadata": {},
   "outputs": [],
   "source": []
  }
 ],
 "metadata": {
  "kernelspec": {
   "display_name": "base",
   "language": "python",
   "name": "python3"
  },
  "language_info": {
   "codemirror_mode": {
    "name": "ipython",
    "version": 3
   },
   "file_extension": ".py",
   "mimetype": "text/x-python",
   "name": "python",
   "nbconvert_exporter": "python",
   "pygments_lexer": "ipython3",
   "version": "3.12.7"
  }
 },
 "nbformat": 4,
 "nbformat_minor": 5
}
