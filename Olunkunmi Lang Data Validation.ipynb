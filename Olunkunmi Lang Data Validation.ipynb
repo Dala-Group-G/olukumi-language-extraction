{
 "cells": [
  {
   "metadata": {
    "ExecuteTime": {
     "end_time": "2025-08-04T21:37:03.507526Z",
     "start_time": "2025-08-04T21:37:03.413253Z"
    }
   },
   "cell_type": "code",
   "source": [
    "import pandas as pd\n",
    "import warnings\n",
    "warnings.filterwarnings('ignore')\n",
    "\n",
    "#loading Data\n",
    "df = pd.read_csv('olukumi_local_english.csv')"
   ],
   "id": "f2a2ffbf0abb4d8f",
   "outputs": [],
   "execution_count": 97
  },
  {
   "metadata": {
    "ExecuteTime": {
     "end_time": "2025-08-04T21:37:03.631505Z",
     "start_time": "2025-08-04T21:37:03.519180Z"
    }
   },
   "cell_type": "code",
   "source": [
    "#Previewing Data\n",
    "print(\"HEAD:\\n\")\n",
    "print(df.head())\n",
    "print(\"\\n\")\n",
    "\n",
    "print(\"INFO:\\n\")\n",
    "print(df.info())\n",
    "print(\"\\n\")\n",
    "\n",
    "print(\"DESCRIBE:\\n\")\n",
    "print(df.describe())\n"
   ],
   "id": "f7f2dc4fd8771c76",
   "outputs": [
    {
     "name": "stdout",
     "output_type": "stream",
     "text": [
      "HEAD:\n",
      "\n",
      "    Local Word English Meaning\n",
      "0        ababe          poison\n",
      "1     ábe  ̣́           below\n",
      "2     ábe  ̣́          bottom\n",
      "3     àbéké           knife\n",
      "4  abọrọkpọ  spinning wheel\n",
      "\n",
      "\n",
      "INFO:\n",
      "\n",
      "<class 'pandas.core.frame.DataFrame'>\n",
      "RangeIndex: 1668 entries, 0 to 1667\n",
      "Data columns (total 2 columns):\n",
      " #   Column           Non-Null Count  Dtype \n",
      "---  ------           --------------  ----- \n",
      " 0   Local Word       1668 non-null   object\n",
      " 1   English Meaning  1662 non-null   object\n",
      "dtypes: object(2)\n",
      "memory usage: 26.2+ KB\n",
      "None\n",
      "\n",
      "\n",
      "DESCRIBE:\n",
      "\n",
      "       Local Word English Meaning\n",
      "count        1668            1662\n",
      "unique       1625            1645\n",
      "top           bí             fan\n",
      "freq            3               2\n"
     ]
    }
   ],
   "execution_count": 98
  },
  {
   "metadata": {},
   "cell_type": "markdown",
   "source": "Basic Data Cleaning",
   "id": "e451af03a43bb957"
  },
  {
   "metadata": {
    "ExecuteTime": {
     "end_time": "2025-08-04T21:37:03.660209Z",
     "start_time": "2025-08-04T21:37:03.640120Z"
    }
   },
   "cell_type": "code",
   "source": [
    "#Checking for missing values\n",
    "df.isna().sum()"
   ],
   "id": "1c99d6875fdb69b5",
   "outputs": [
    {
     "data": {
      "text/plain": [
       "Local Word         0\n",
       "English Meaning    6\n",
       "dtype: int64"
      ]
     },
     "execution_count": 99,
     "metadata": {},
     "output_type": "execute_result"
    }
   ],
   "execution_count": 99
  },
  {
   "metadata": {
    "ExecuteTime": {
     "end_time": "2025-08-04T21:37:03.706108Z",
     "start_time": "2025-08-04T21:37:03.681370Z"
    }
   },
   "cell_type": "code",
   "source": [
    "#Dropping missing values\n",
    "df.dropna(inplace = True)\n",
    "\n",
    "df.isna().sum()"
   ],
   "id": "a0d857ccdcb39c",
   "outputs": [
    {
     "data": {
      "text/plain": [
       "Local Word         0\n",
       "English Meaning    0\n",
       "dtype: int64"
      ]
     },
     "execution_count": 100,
     "metadata": {},
     "output_type": "execute_result"
    }
   ],
   "execution_count": 100
  },
  {
   "metadata": {
    "ExecuteTime": {
     "end_time": "2025-08-04T21:37:03.748678Z",
     "start_time": "2025-08-04T21:37:03.727748Z"
    }
   },
   "cell_type": "code",
   "source": [
    "#Checking For Duplicates\n",
    "duplicates = df[df.duplicated()]\n",
    "print(duplicates)"
   ],
   "id": "7d5815e24b5980d4",
   "outputs": [
    {
     "name": "stdout",
     "output_type": "stream",
     "text": [
      "Empty DataFrame\n",
      "Columns: [Local Word, English Meaning]\n",
      "Index: []\n"
     ]
    }
   ],
   "execution_count": 101
  },
  {
   "metadata": {
    "ExecuteTime": {
     "end_time": "2025-08-04T21:37:03.787201Z",
     "start_time": "2025-08-04T21:37:03.760913Z"
    }
   },
   "cell_type": "code",
   "source": [
    "#Checking For Empty strings or white space\n",
    "df['Local Word'] = df['Local Word'].str.strip()\n",
    "df['English Meaning'] = df['English Meaning'].str.strip()\n",
    "\n",
    "df.replace('',pd.NA,inplace=True)\n",
    "print(df.isna().sum())"
   ],
   "id": "334f3851ce69bea1",
   "outputs": [
    {
     "name": "stdout",
     "output_type": "stream",
     "text": [
      "Local Word         0\n",
      "English Meaning    0\n",
      "dtype: int64\n"
     ]
    }
   ],
   "execution_count": 102
  },
  {
   "metadata": {
    "ExecuteTime": {
     "end_time": "2025-08-04T21:37:03.826834Z",
     "start_time": "2025-08-04T21:37:03.815359Z"
    }
   },
   "cell_type": "code",
   "source": [
    "#Confirming Datatypes\n",
    "print(df.dtypes)"
   ],
   "id": "206ec74558b77912",
   "outputs": [
    {
     "name": "stdout",
     "output_type": "stream",
     "text": [
      "Local Word         object\n",
      "English Meaning    object\n",
      "dtype: object\n"
     ]
    }
   ],
   "execution_count": 103
  },
  {
   "metadata": {
    "ExecuteTime": {
     "end_time": "2025-08-04T21:37:03.854109Z",
     "start_time": "2025-08-04T21:37:03.845454Z"
    }
   },
   "cell_type": "code",
   "source": [
    "#making sure datatypes are all strings\n",
    "df['Local Word'] = df['Local Word'].astype('str')\n",
    "df['English Meaning'] = df['English Meaning'].astype('str')"
   ],
   "id": "1a8c2d6ef12073e8",
   "outputs": [],
   "execution_count": 104
  },
  {
   "metadata": {
    "ExecuteTime": {
     "end_time": "2025-08-04T21:37:03.898327Z",
     "start_time": "2025-08-04T21:37:03.870916Z"
    }
   },
   "cell_type": "code",
   "source": "df.head(15)",
   "id": "37388bd2f1871cac",
   "outputs": [
    {
     "data": {
      "text/plain": [
       "          Local Word English Meaning\n",
       "0              ababe          poison\n",
       "1           ábe  ̣́           below\n",
       "2           ábe  ̣́          bottom\n",
       "3           àbéké           knife\n",
       "4        abọrọkpọ  spinning wheel\n",
       "5      abo  ̣́wo  ̣́          armpit\n",
       "6              àdá  hatchet, sword\n",
       "7               adan             bat\n",
       "8               adé           crown\n",
       "9              adele    house lizard\n",
       "10          ade  ̣́n           fried\n",
       "11            adidun          stingy\n",
       "12             afán             gun\n",
       "13  afo  ̣̀máyàsé           bluff\n",
       "14           afọsẹ      invocation"
      ],
      "text/html": [
       "<div>\n",
       "<style scoped>\n",
       "    .dataframe tbody tr th:only-of-type {\n",
       "        vertical-align: middle;\n",
       "    }\n",
       "\n",
       "    .dataframe tbody tr th {\n",
       "        vertical-align: top;\n",
       "    }\n",
       "\n",
       "    .dataframe thead th {\n",
       "        text-align: right;\n",
       "    }\n",
       "</style>\n",
       "<table border=\"1\" class=\"dataframe\">\n",
       "  <thead>\n",
       "    <tr style=\"text-align: right;\">\n",
       "      <th></th>\n",
       "      <th>Local Word</th>\n",
       "      <th>English Meaning</th>\n",
       "    </tr>\n",
       "  </thead>\n",
       "  <tbody>\n",
       "    <tr>\n",
       "      <th>0</th>\n",
       "      <td>ababe</td>\n",
       "      <td>poison</td>\n",
       "    </tr>\n",
       "    <tr>\n",
       "      <th>1</th>\n",
       "      <td>ábe  ̣́</td>\n",
       "      <td>below</td>\n",
       "    </tr>\n",
       "    <tr>\n",
       "      <th>2</th>\n",
       "      <td>ábe  ̣́</td>\n",
       "      <td>bottom</td>\n",
       "    </tr>\n",
       "    <tr>\n",
       "      <th>3</th>\n",
       "      <td>àbéké</td>\n",
       "      <td>knife</td>\n",
       "    </tr>\n",
       "    <tr>\n",
       "      <th>4</th>\n",
       "      <td>abọrọkpọ</td>\n",
       "      <td>spinning wheel</td>\n",
       "    </tr>\n",
       "    <tr>\n",
       "      <th>5</th>\n",
       "      <td>abo  ̣́wo  ̣́</td>\n",
       "      <td>armpit</td>\n",
       "    </tr>\n",
       "    <tr>\n",
       "      <th>6</th>\n",
       "      <td>àdá</td>\n",
       "      <td>hatchet, sword</td>\n",
       "    </tr>\n",
       "    <tr>\n",
       "      <th>7</th>\n",
       "      <td>adan</td>\n",
       "      <td>bat</td>\n",
       "    </tr>\n",
       "    <tr>\n",
       "      <th>8</th>\n",
       "      <td>adé</td>\n",
       "      <td>crown</td>\n",
       "    </tr>\n",
       "    <tr>\n",
       "      <th>9</th>\n",
       "      <td>adele</td>\n",
       "      <td>house lizard</td>\n",
       "    </tr>\n",
       "    <tr>\n",
       "      <th>10</th>\n",
       "      <td>ade  ̣́n</td>\n",
       "      <td>fried</td>\n",
       "    </tr>\n",
       "    <tr>\n",
       "      <th>11</th>\n",
       "      <td>adidun</td>\n",
       "      <td>stingy</td>\n",
       "    </tr>\n",
       "    <tr>\n",
       "      <th>12</th>\n",
       "      <td>afán</td>\n",
       "      <td>gun</td>\n",
       "    </tr>\n",
       "    <tr>\n",
       "      <th>13</th>\n",
       "      <td>afo  ̣̀máyàsé</td>\n",
       "      <td>bluff</td>\n",
       "    </tr>\n",
       "    <tr>\n",
       "      <th>14</th>\n",
       "      <td>afọsẹ</td>\n",
       "      <td>invocation</td>\n",
       "    </tr>\n",
       "  </tbody>\n",
       "</table>\n",
       "</div>"
      ]
     },
     "execution_count": 105,
     "metadata": {},
     "output_type": "execute_result"
    }
   ],
   "execution_count": 105
  },
  {
   "metadata": {},
   "cell_type": "markdown",
   "source": "Looking for strange characters or symbols",
   "id": "8b4771349f4c2f26"
  },
  {
   "metadata": {
    "ExecuteTime": {
     "end_time": "2025-08-04T21:37:03.934101Z",
     "start_time": "2025-08-04T21:37:03.918809Z"
    }
   },
   "cell_type": "code",
   "source": [
    "print(df['Local Word'].nunique())\n",
    "print(df['English Meaning'].nunique())"
   ],
   "id": "ac7715f546cf9a7d",
   "outputs": [
    {
     "name": "stdout",
     "output_type": "stream",
     "text": [
      "1620\n",
      "1645\n"
     ]
    }
   ],
   "execution_count": 106
  },
  {
   "metadata": {
    "ExecuteTime": {
     "end_time": "2025-08-04T21:37:03.967199Z",
     "start_time": "2025-08-04T21:37:03.952965Z"
    }
   },
   "cell_type": "code",
   "source": "df.columns",
   "id": "58a17deea108e2b4",
   "outputs": [
    {
     "data": {
      "text/plain": [
       "Index(['Local Word', 'English Meaning'], dtype='object')"
      ]
     },
     "execution_count": 107,
     "metadata": {},
     "output_type": "execute_result"
    }
   ],
   "execution_count": 107
  },
  {
   "metadata": {
    "ExecuteTime": {
     "end_time": "2025-08-04T21:37:04.038731Z",
     "start_time": "2025-08-04T21:37:03.997412Z"
    }
   },
   "cell_type": "code",
   "source": [
    "import re\n",
    "from textblob import TextBlob\n",
    "\n",
    "#Remove unwanted characters.\n",
    "def clean_text(text):\n",
    "    # Keep: letters (a-z, A-Z), digits (0-9), spaces, hyphens, and accented letters (Latin-1 and Latin Extended)\n",
    "    return re.sub(r\"[^a-zA-Z0-9\\s\\-\\u00C0-\\u024F]\", \"\", text)\n",
    "\n",
    "df.head(15)"
   ],
   "id": "196e2166f5461bec",
   "outputs": [
    {
     "data": {
      "text/plain": [
       "          Local Word English Meaning\n",
       "0              ababe          poison\n",
       "1           ábe  ̣́           below\n",
       "2           ábe  ̣́          bottom\n",
       "3           àbéké           knife\n",
       "4        abọrọkpọ  spinning wheel\n",
       "5      abo  ̣́wo  ̣́          armpit\n",
       "6              àdá  hatchet, sword\n",
       "7               adan             bat\n",
       "8               adé           crown\n",
       "9              adele    house lizard\n",
       "10          ade  ̣́n           fried\n",
       "11            adidun          stingy\n",
       "12             afán             gun\n",
       "13  afo  ̣̀máyàsé           bluff\n",
       "14           afọsẹ      invocation"
      ],
      "text/html": [
       "<div>\n",
       "<style scoped>\n",
       "    .dataframe tbody tr th:only-of-type {\n",
       "        vertical-align: middle;\n",
       "    }\n",
       "\n",
       "    .dataframe tbody tr th {\n",
       "        vertical-align: top;\n",
       "    }\n",
       "\n",
       "    .dataframe thead th {\n",
       "        text-align: right;\n",
       "    }\n",
       "</style>\n",
       "<table border=\"1\" class=\"dataframe\">\n",
       "  <thead>\n",
       "    <tr style=\"text-align: right;\">\n",
       "      <th></th>\n",
       "      <th>Local Word</th>\n",
       "      <th>English Meaning</th>\n",
       "    </tr>\n",
       "  </thead>\n",
       "  <tbody>\n",
       "    <tr>\n",
       "      <th>0</th>\n",
       "      <td>ababe</td>\n",
       "      <td>poison</td>\n",
       "    </tr>\n",
       "    <tr>\n",
       "      <th>1</th>\n",
       "      <td>ábe  ̣́</td>\n",
       "      <td>below</td>\n",
       "    </tr>\n",
       "    <tr>\n",
       "      <th>2</th>\n",
       "      <td>ábe  ̣́</td>\n",
       "      <td>bottom</td>\n",
       "    </tr>\n",
       "    <tr>\n",
       "      <th>3</th>\n",
       "      <td>àbéké</td>\n",
       "      <td>knife</td>\n",
       "    </tr>\n",
       "    <tr>\n",
       "      <th>4</th>\n",
       "      <td>abọrọkpọ</td>\n",
       "      <td>spinning wheel</td>\n",
       "    </tr>\n",
       "    <tr>\n",
       "      <th>5</th>\n",
       "      <td>abo  ̣́wo  ̣́</td>\n",
       "      <td>armpit</td>\n",
       "    </tr>\n",
       "    <tr>\n",
       "      <th>6</th>\n",
       "      <td>àdá</td>\n",
       "      <td>hatchet, sword</td>\n",
       "    </tr>\n",
       "    <tr>\n",
       "      <th>7</th>\n",
       "      <td>adan</td>\n",
       "      <td>bat</td>\n",
       "    </tr>\n",
       "    <tr>\n",
       "      <th>8</th>\n",
       "      <td>adé</td>\n",
       "      <td>crown</td>\n",
       "    </tr>\n",
       "    <tr>\n",
       "      <th>9</th>\n",
       "      <td>adele</td>\n",
       "      <td>house lizard</td>\n",
       "    </tr>\n",
       "    <tr>\n",
       "      <th>10</th>\n",
       "      <td>ade  ̣́n</td>\n",
       "      <td>fried</td>\n",
       "    </tr>\n",
       "    <tr>\n",
       "      <th>11</th>\n",
       "      <td>adidun</td>\n",
       "      <td>stingy</td>\n",
       "    </tr>\n",
       "    <tr>\n",
       "      <th>12</th>\n",
       "      <td>afán</td>\n",
       "      <td>gun</td>\n",
       "    </tr>\n",
       "    <tr>\n",
       "      <th>13</th>\n",
       "      <td>afo  ̣̀máyàsé</td>\n",
       "      <td>bluff</td>\n",
       "    </tr>\n",
       "    <tr>\n",
       "      <th>14</th>\n",
       "      <td>afọsẹ</td>\n",
       "      <td>invocation</td>\n",
       "    </tr>\n",
       "  </tbody>\n",
       "</table>\n",
       "</div>"
      ]
     },
     "execution_count": 108,
     "metadata": {},
     "output_type": "execute_result"
    }
   ],
   "execution_count": 108
  },
  {
   "metadata": {
    "ExecuteTime": {
     "end_time": "2025-08-04T21:37:04.154964Z",
     "start_time": "2025-08-04T21:37:04.069210Z"
    }
   },
   "cell_type": "code",
   "source": [
    "#Splitting multiple English meanings (separated by commas) into lists\n",
    "df[\"English Meaning\"] = df[\"English Meaning\"].astype(str).str.split(\",\")\n",
    "\n",
    "#Expanding the DataFrame so each English meaning gets its own row\n",
    "df_expanded = df.explode(\"English Meaning\")\n",
    "\n",
    "#Removing leading and trailing spaces from each English meaning\n",
    "df_expanded['English Meaning'] = df_expanded['English Meaning'].str.strip()\n",
    "\n",
    "df_expanded.head(15)"
   ],
   "id": "8fa286c6112ba1f9",
   "outputs": [
    {
     "data": {
      "text/plain": [
       "          Local Word English Meaning\n",
       "0              ababe          poison\n",
       "1           ábe  ̣́           below\n",
       "2           ábe  ̣́          bottom\n",
       "3           àbéké           knife\n",
       "4        abọrọkpọ  spinning wheel\n",
       "5      abo  ̣́wo  ̣́          armpit\n",
       "6              àdá         hatchet\n",
       "6              àdá           sword\n",
       "7               adan             bat\n",
       "8               adé           crown\n",
       "9              adele    house lizard\n",
       "10          ade  ̣́n           fried\n",
       "11            adidun          stingy\n",
       "12             afán             gun\n",
       "13  afo  ̣̀máyàsé           bluff"
      ],
      "text/html": [
       "<div>\n",
       "<style scoped>\n",
       "    .dataframe tbody tr th:only-of-type {\n",
       "        vertical-align: middle;\n",
       "    }\n",
       "\n",
       "    .dataframe tbody tr th {\n",
       "        vertical-align: top;\n",
       "    }\n",
       "\n",
       "    .dataframe thead th {\n",
       "        text-align: right;\n",
       "    }\n",
       "</style>\n",
       "<table border=\"1\" class=\"dataframe\">\n",
       "  <thead>\n",
       "    <tr style=\"text-align: right;\">\n",
       "      <th></th>\n",
       "      <th>Local Word</th>\n",
       "      <th>English Meaning</th>\n",
       "    </tr>\n",
       "  </thead>\n",
       "  <tbody>\n",
       "    <tr>\n",
       "      <th>0</th>\n",
       "      <td>ababe</td>\n",
       "      <td>poison</td>\n",
       "    </tr>\n",
       "    <tr>\n",
       "      <th>1</th>\n",
       "      <td>ábe  ̣́</td>\n",
       "      <td>below</td>\n",
       "    </tr>\n",
       "    <tr>\n",
       "      <th>2</th>\n",
       "      <td>ábe  ̣́</td>\n",
       "      <td>bottom</td>\n",
       "    </tr>\n",
       "    <tr>\n",
       "      <th>3</th>\n",
       "      <td>àbéké</td>\n",
       "      <td>knife</td>\n",
       "    </tr>\n",
       "    <tr>\n",
       "      <th>4</th>\n",
       "      <td>abọrọkpọ</td>\n",
       "      <td>spinning wheel</td>\n",
       "    </tr>\n",
       "    <tr>\n",
       "      <th>5</th>\n",
       "      <td>abo  ̣́wo  ̣́</td>\n",
       "      <td>armpit</td>\n",
       "    </tr>\n",
       "    <tr>\n",
       "      <th>6</th>\n",
       "      <td>àdá</td>\n",
       "      <td>hatchet</td>\n",
       "    </tr>\n",
       "    <tr>\n",
       "      <th>6</th>\n",
       "      <td>àdá</td>\n",
       "      <td>sword</td>\n",
       "    </tr>\n",
       "    <tr>\n",
       "      <th>7</th>\n",
       "      <td>adan</td>\n",
       "      <td>bat</td>\n",
       "    </tr>\n",
       "    <tr>\n",
       "      <th>8</th>\n",
       "      <td>adé</td>\n",
       "      <td>crown</td>\n",
       "    </tr>\n",
       "    <tr>\n",
       "      <th>9</th>\n",
       "      <td>adele</td>\n",
       "      <td>house lizard</td>\n",
       "    </tr>\n",
       "    <tr>\n",
       "      <th>10</th>\n",
       "      <td>ade  ̣́n</td>\n",
       "      <td>fried</td>\n",
       "    </tr>\n",
       "    <tr>\n",
       "      <th>11</th>\n",
       "      <td>adidun</td>\n",
       "      <td>stingy</td>\n",
       "    </tr>\n",
       "    <tr>\n",
       "      <th>12</th>\n",
       "      <td>afán</td>\n",
       "      <td>gun</td>\n",
       "    </tr>\n",
       "    <tr>\n",
       "      <th>13</th>\n",
       "      <td>afo  ̣̀máyàsé</td>\n",
       "      <td>bluff</td>\n",
       "    </tr>\n",
       "  </tbody>\n",
       "</table>\n",
       "</div>"
      ]
     },
     "execution_count": 109,
     "metadata": {},
     "output_type": "execute_result"
    }
   ],
   "execution_count": 109
  },
  {
   "metadata": {},
   "cell_type": "markdown",
   "source": "Export Cleaned and Validated Data",
   "id": "f6b409db40bfcec0"
  },
  {
   "metadata": {
    "ExecuteTime": {
     "end_time": "2025-08-04T21:37:04.200104Z",
     "start_time": "2025-08-04T21:37:04.172977Z"
    }
   },
   "cell_type": "code",
   "source": "df_expanded.to_csv(\"validated_dictionary.csv\", index=False)",
   "id": "bd220c905e2a8125",
   "outputs": [],
   "execution_count": 110
  },
  {
   "metadata": {
    "ExecuteTime": {
     "end_time": "2025-08-04T21:37:04.224935Z",
     "start_time": "2025-08-04T21:37:04.219115Z"
    }
   },
   "cell_type": "code",
   "source": "",
   "id": "a895c7a9b38f0676",
   "outputs": [],
   "execution_count": null
  }
 ],
 "metadata": {
  "kernelspec": {
   "display_name": "Python 3",
   "language": "python",
   "name": "python3"
  },
  "language_info": {
   "codemirror_mode": {
    "name": "ipython",
    "version": 2
   },
   "file_extension": ".py",
   "mimetype": "text/x-python",
   "name": "python",
   "nbconvert_exporter": "python",
   "pygments_lexer": "ipython2",
   "version": "2.7.6"
  }
 },
 "nbformat": 4,
 "nbformat_minor": 5
}
