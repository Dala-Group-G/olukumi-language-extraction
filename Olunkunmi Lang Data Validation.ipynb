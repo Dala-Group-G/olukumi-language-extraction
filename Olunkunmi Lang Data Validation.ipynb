{
 "cells": [
  {
   "metadata": {
    "ExecuteTime": {
     "end_time": "2025-08-05T11:51:55.310506Z",
     "start_time": "2025-08-05T11:51:55.299810Z"
    }
   },
   "cell_type": "code",
   "source": [
    "import pandas as pd\n",
    "import warnings\n",
    "warnings.filterwarnings('ignore')\n",
    "\n",
    "#loading Data\n",
    "df = pd.read_csv('olukumi_local_english.csv')"
   ],
   "id": "f2a2ffbf0abb4d8f",
   "outputs": [],
   "execution_count": 262
  },
  {
   "metadata": {
    "ExecuteTime": {
     "end_time": "2025-08-05T11:51:55.340507Z",
     "start_time": "2025-08-05T11:51:55.318017Z"
    }
   },
   "cell_type": "code",
   "source": [
    "#Previewing Data\n",
    "print(\"HEAD:\\n\")\n",
    "print(df.head())\n",
    "print(\"\\n\")\n",
    "\n",
    "print(\"INFO:\\n\")\n",
    "print(df.info())\n",
    "print(\"\\n\")\n",
    "\n",
    "print(\"DESCRIBE:\\n\")\n",
    "print(df.describe())\n"
   ],
   "id": "f7f2dc4fd8771c76",
   "outputs": [
    {
     "name": "stdout",
     "output_type": "stream",
     "text": [
      "HEAD:\n",
      "\n",
      "    Local Word English Meaning\n",
      "0        ababe          poison\n",
      "1     ábe  ̣́           below\n",
      "2     ábe  ̣́          bottom\n",
      "3     àbéké           knife\n",
      "4  abọrọkpọ  spinning wheel\n",
      "\n",
      "\n",
      "INFO:\n",
      "\n",
      "<class 'pandas.core.frame.DataFrame'>\n",
      "RangeIndex: 1668 entries, 0 to 1667\n",
      "Data columns (total 2 columns):\n",
      " #   Column           Non-Null Count  Dtype \n",
      "---  ------           --------------  ----- \n",
      " 0   Local Word       1668 non-null   object\n",
      " 1   English Meaning  1662 non-null   object\n",
      "dtypes: object(2)\n",
      "memory usage: 26.2+ KB\n",
      "None\n",
      "\n",
      "\n",
      "DESCRIBE:\n",
      "\n",
      "       Local Word English Meaning\n",
      "count        1668            1662\n",
      "unique       1625            1645\n",
      "top           bí             fan\n",
      "freq            3               2\n"
     ]
    }
   ],
   "execution_count": 263
  },
  {
   "metadata": {},
   "cell_type": "markdown",
   "source": "Basic Data Cleaning",
   "id": "e451af03a43bb957"
  },
  {
   "metadata": {
    "ExecuteTime": {
     "end_time": "2025-08-05T11:51:55.443408Z",
     "start_time": "2025-08-05T11:51:55.434606Z"
    }
   },
   "cell_type": "code",
   "source": [
    "#Checking for missing values\n",
    "df.isna().sum()"
   ],
   "id": "1c99d6875fdb69b5",
   "outputs": [
    {
     "data": {
      "text/plain": [
       "Local Word         0\n",
       "English Meaning    6\n",
       "dtype: int64"
      ]
     },
     "execution_count": 264,
     "metadata": {},
     "output_type": "execute_result"
    }
   ],
   "execution_count": 264
  },
  {
   "metadata": {
    "ExecuteTime": {
     "end_time": "2025-08-05T11:51:55.496845Z",
     "start_time": "2025-08-05T11:51:55.486530Z"
    }
   },
   "cell_type": "code",
   "source": [
    "#Dropping missing values\n",
    "df.dropna(inplace = True)\n",
    "\n",
    "df.isna().sum()"
   ],
   "id": "a0d857ccdcb39c",
   "outputs": [
    {
     "data": {
      "text/plain": [
       "Local Word         0\n",
       "English Meaning    0\n",
       "dtype: int64"
      ]
     },
     "execution_count": 265,
     "metadata": {},
     "output_type": "execute_result"
    }
   ],
   "execution_count": 265
  },
  {
   "metadata": {
    "ExecuteTime": {
     "end_time": "2025-08-05T11:51:55.518636Z",
     "start_time": "2025-08-05T11:51:55.509537Z"
    }
   },
   "cell_type": "code",
   "source": [
    "#Checking For Duplicates\n",
    "duplicates = df[df.duplicated()]\n",
    "print(duplicates)"
   ],
   "id": "7d5815e24b5980d4",
   "outputs": [
    {
     "name": "stdout",
     "output_type": "stream",
     "text": [
      "Empty DataFrame\n",
      "Columns: [Local Word, English Meaning]\n",
      "Index: []\n"
     ]
    }
   ],
   "execution_count": 266
  },
  {
   "metadata": {
    "ExecuteTime": {
     "end_time": "2025-08-05T11:51:55.539469Z",
     "start_time": "2025-08-05T11:51:55.529592Z"
    }
   },
   "cell_type": "code",
   "source": [
    "#Checking For Empty strings or white space\n",
    "df['Local Word'] = df['Local Word'].str.strip()\n",
    "df['English Meaning'] = df['English Meaning'].str.strip()\n",
    "\n",
    "df.replace('',pd.NA,inplace=True)\n",
    "print(df.isna().sum())"
   ],
   "id": "334f3851ce69bea1",
   "outputs": [
    {
     "name": "stdout",
     "output_type": "stream",
     "text": [
      "Local Word         0\n",
      "English Meaning    0\n",
      "dtype: int64\n"
     ]
    }
   ],
   "execution_count": 267
  },
  {
   "metadata": {
    "ExecuteTime": {
     "end_time": "2025-08-05T11:51:55.558171Z",
     "start_time": "2025-08-05T11:51:55.551426Z"
    }
   },
   "cell_type": "code",
   "source": [
    "#Confirming Datatypes\n",
    "print(df.dtypes)"
   ],
   "id": "206ec74558b77912",
   "outputs": [
    {
     "name": "stdout",
     "output_type": "stream",
     "text": [
      "Local Word         object\n",
      "English Meaning    object\n",
      "dtype: object\n"
     ]
    }
   ],
   "execution_count": 268
  },
  {
   "metadata": {
    "ExecuteTime": {
     "end_time": "2025-08-05T11:51:55.589444Z",
     "start_time": "2025-08-05T11:51:55.582935Z"
    }
   },
   "cell_type": "code",
   "source": [
    "#making sure datatypes are all strings\n",
    "df['Local Word'] = df['Local Word'].astype('str')\n",
    "df['English Meaning'] = df['English Meaning'].astype('str')"
   ],
   "id": "1a8c2d6ef12073e8",
   "outputs": [],
   "execution_count": 269
  },
  {
   "metadata": {
    "ExecuteTime": {
     "end_time": "2025-08-05T11:51:55.690636Z",
     "start_time": "2025-08-05T11:51:55.674873Z"
    }
   },
   "cell_type": "code",
   "source": "df.head(15)",
   "id": "37388bd2f1871cac",
   "outputs": [
    {
     "data": {
      "text/plain": [
       "          Local Word English Meaning\n",
       "0              ababe          poison\n",
       "1           ábe  ̣́           below\n",
       "2           ábe  ̣́          bottom\n",
       "3           àbéké           knife\n",
       "4        abọrọkpọ  spinning wheel\n",
       "5      abo  ̣́wo  ̣́          armpit\n",
       "6              àdá  hatchet, sword\n",
       "7               adan             bat\n",
       "8               adé           crown\n",
       "9              adele    house lizard\n",
       "10          ade  ̣́n           fried\n",
       "11            adidun          stingy\n",
       "12             afán             gun\n",
       "13  afo  ̣̀máyàsé           bluff\n",
       "14           afọsẹ      invocation"
      ],
      "text/html": [
       "<div>\n",
       "<style scoped>\n",
       "    .dataframe tbody tr th:only-of-type {\n",
       "        vertical-align: middle;\n",
       "    }\n",
       "\n",
       "    .dataframe tbody tr th {\n",
       "        vertical-align: top;\n",
       "    }\n",
       "\n",
       "    .dataframe thead th {\n",
       "        text-align: right;\n",
       "    }\n",
       "</style>\n",
       "<table border=\"1\" class=\"dataframe\">\n",
       "  <thead>\n",
       "    <tr style=\"text-align: right;\">\n",
       "      <th></th>\n",
       "      <th>Local Word</th>\n",
       "      <th>English Meaning</th>\n",
       "    </tr>\n",
       "  </thead>\n",
       "  <tbody>\n",
       "    <tr>\n",
       "      <th>0</th>\n",
       "      <td>ababe</td>\n",
       "      <td>poison</td>\n",
       "    </tr>\n",
       "    <tr>\n",
       "      <th>1</th>\n",
       "      <td>ábe  ̣́</td>\n",
       "      <td>below</td>\n",
       "    </tr>\n",
       "    <tr>\n",
       "      <th>2</th>\n",
       "      <td>ábe  ̣́</td>\n",
       "      <td>bottom</td>\n",
       "    </tr>\n",
       "    <tr>\n",
       "      <th>3</th>\n",
       "      <td>àbéké</td>\n",
       "      <td>knife</td>\n",
       "    </tr>\n",
       "    <tr>\n",
       "      <th>4</th>\n",
       "      <td>abọrọkpọ</td>\n",
       "      <td>spinning wheel</td>\n",
       "    </tr>\n",
       "    <tr>\n",
       "      <th>5</th>\n",
       "      <td>abo  ̣́wo  ̣́</td>\n",
       "      <td>armpit</td>\n",
       "    </tr>\n",
       "    <tr>\n",
       "      <th>6</th>\n",
       "      <td>àdá</td>\n",
       "      <td>hatchet, sword</td>\n",
       "    </tr>\n",
       "    <tr>\n",
       "      <th>7</th>\n",
       "      <td>adan</td>\n",
       "      <td>bat</td>\n",
       "    </tr>\n",
       "    <tr>\n",
       "      <th>8</th>\n",
       "      <td>adé</td>\n",
       "      <td>crown</td>\n",
       "    </tr>\n",
       "    <tr>\n",
       "      <th>9</th>\n",
       "      <td>adele</td>\n",
       "      <td>house lizard</td>\n",
       "    </tr>\n",
       "    <tr>\n",
       "      <th>10</th>\n",
       "      <td>ade  ̣́n</td>\n",
       "      <td>fried</td>\n",
       "    </tr>\n",
       "    <tr>\n",
       "      <th>11</th>\n",
       "      <td>adidun</td>\n",
       "      <td>stingy</td>\n",
       "    </tr>\n",
       "    <tr>\n",
       "      <th>12</th>\n",
       "      <td>afán</td>\n",
       "      <td>gun</td>\n",
       "    </tr>\n",
       "    <tr>\n",
       "      <th>13</th>\n",
       "      <td>afo  ̣̀máyàsé</td>\n",
       "      <td>bluff</td>\n",
       "    </tr>\n",
       "    <tr>\n",
       "      <th>14</th>\n",
       "      <td>afọsẹ</td>\n",
       "      <td>invocation</td>\n",
       "    </tr>\n",
       "  </tbody>\n",
       "</table>\n",
       "</div>"
      ]
     },
     "execution_count": 270,
     "metadata": {},
     "output_type": "execute_result"
    }
   ],
   "execution_count": 270
  },
  {
   "metadata": {},
   "cell_type": "markdown",
   "source": "Looking for strange characters or symbols",
   "id": "8b4771349f4c2f26"
  },
  {
   "metadata": {
    "ExecuteTime": {
     "end_time": "2025-08-05T11:51:55.751068Z",
     "start_time": "2025-08-05T11:51:55.731642Z"
    }
   },
   "cell_type": "code",
   "source": [
    "import re\n",
    "from textblob import TextBlob\n",
    "\n",
    "#Remove unwanted characters.\n",
    "def clean_text(text):\n",
    "    # Keep: letters (a-z, A-Z), digits (0-9), spaces, hyphens, and accented letters (Latin-1 and Latin Extended)\n",
    "    return re.sub(r\"[^a-zA-Z0-9\\s\\-\\u00C0-\\u024F]\", \"\", text)\n",
    "\n",
    "df.head(15)"
   ],
   "id": "196e2166f5461bec",
   "outputs": [
    {
     "data": {
      "text/plain": [
       "          Local Word English Meaning\n",
       "0              ababe          poison\n",
       "1           ábe  ̣́           below\n",
       "2           ábe  ̣́          bottom\n",
       "3           àbéké           knife\n",
       "4        abọrọkpọ  spinning wheel\n",
       "5      abo  ̣́wo  ̣́          armpit\n",
       "6              àdá  hatchet, sword\n",
       "7               adan             bat\n",
       "8               adé           crown\n",
       "9              adele    house lizard\n",
       "10          ade  ̣́n           fried\n",
       "11            adidun          stingy\n",
       "12             afán             gun\n",
       "13  afo  ̣̀máyàsé           bluff\n",
       "14           afọsẹ      invocation"
      ],
      "text/html": [
       "<div>\n",
       "<style scoped>\n",
       "    .dataframe tbody tr th:only-of-type {\n",
       "        vertical-align: middle;\n",
       "    }\n",
       "\n",
       "    .dataframe tbody tr th {\n",
       "        vertical-align: top;\n",
       "    }\n",
       "\n",
       "    .dataframe thead th {\n",
       "        text-align: right;\n",
       "    }\n",
       "</style>\n",
       "<table border=\"1\" class=\"dataframe\">\n",
       "  <thead>\n",
       "    <tr style=\"text-align: right;\">\n",
       "      <th></th>\n",
       "      <th>Local Word</th>\n",
       "      <th>English Meaning</th>\n",
       "    </tr>\n",
       "  </thead>\n",
       "  <tbody>\n",
       "    <tr>\n",
       "      <th>0</th>\n",
       "      <td>ababe</td>\n",
       "      <td>poison</td>\n",
       "    </tr>\n",
       "    <tr>\n",
       "      <th>1</th>\n",
       "      <td>ábe  ̣́</td>\n",
       "      <td>below</td>\n",
       "    </tr>\n",
       "    <tr>\n",
       "      <th>2</th>\n",
       "      <td>ábe  ̣́</td>\n",
       "      <td>bottom</td>\n",
       "    </tr>\n",
       "    <tr>\n",
       "      <th>3</th>\n",
       "      <td>àbéké</td>\n",
       "      <td>knife</td>\n",
       "    </tr>\n",
       "    <tr>\n",
       "      <th>4</th>\n",
       "      <td>abọrọkpọ</td>\n",
       "      <td>spinning wheel</td>\n",
       "    </tr>\n",
       "    <tr>\n",
       "      <th>5</th>\n",
       "      <td>abo  ̣́wo  ̣́</td>\n",
       "      <td>armpit</td>\n",
       "    </tr>\n",
       "    <tr>\n",
       "      <th>6</th>\n",
       "      <td>àdá</td>\n",
       "      <td>hatchet, sword</td>\n",
       "    </tr>\n",
       "    <tr>\n",
       "      <th>7</th>\n",
       "      <td>adan</td>\n",
       "      <td>bat</td>\n",
       "    </tr>\n",
       "    <tr>\n",
       "      <th>8</th>\n",
       "      <td>adé</td>\n",
       "      <td>crown</td>\n",
       "    </tr>\n",
       "    <tr>\n",
       "      <th>9</th>\n",
       "      <td>adele</td>\n",
       "      <td>house lizard</td>\n",
       "    </tr>\n",
       "    <tr>\n",
       "      <th>10</th>\n",
       "      <td>ade  ̣́n</td>\n",
       "      <td>fried</td>\n",
       "    </tr>\n",
       "    <tr>\n",
       "      <th>11</th>\n",
       "      <td>adidun</td>\n",
       "      <td>stingy</td>\n",
       "    </tr>\n",
       "    <tr>\n",
       "      <th>12</th>\n",
       "      <td>afán</td>\n",
       "      <td>gun</td>\n",
       "    </tr>\n",
       "    <tr>\n",
       "      <th>13</th>\n",
       "      <td>afo  ̣̀máyàsé</td>\n",
       "      <td>bluff</td>\n",
       "    </tr>\n",
       "    <tr>\n",
       "      <th>14</th>\n",
       "      <td>afọsẹ</td>\n",
       "      <td>invocation</td>\n",
       "    </tr>\n",
       "  </tbody>\n",
       "</table>\n",
       "</div>"
      ]
     },
     "execution_count": 271,
     "metadata": {},
     "output_type": "execute_result"
    }
   ],
   "execution_count": 271
  },
  {
   "metadata": {
    "ExecuteTime": {
     "end_time": "2025-08-05T11:51:55.810158Z",
     "start_time": "2025-08-05T11:51:55.781243Z"
    }
   },
   "cell_type": "code",
   "source": [
    "#Splitting multiple English meanings (separated by commas) into lists\n",
    "df[\"English Meaning\"] = df[\"English Meaning\"].astype(str).str.split(\",\")\n",
    "\n",
    "#Expanding the DataFrame so each English meaning gets its own row\n",
    "df_expanded = df.explode(\"English Meaning\")\n",
    "\n",
    "#Removing leading and trailing spaces from each English meaning\n",
    "df_expanded['English Meaning'] = df_expanded['English Meaning'].str.strip()\n",
    "\n",
    "df_expanded.head(15)"
   ],
   "id": "8fa286c6112ba1f9",
   "outputs": [
    {
     "data": {
      "text/plain": [
       "          Local Word English Meaning\n",
       "0              ababe          poison\n",
       "1           ábe  ̣́           below\n",
       "2           ábe  ̣́          bottom\n",
       "3           àbéké           knife\n",
       "4        abọrọkpọ  spinning wheel\n",
       "5      abo  ̣́wo  ̣́          armpit\n",
       "6              àdá         hatchet\n",
       "6              àdá           sword\n",
       "7               adan             bat\n",
       "8               adé           crown\n",
       "9              adele    house lizard\n",
       "10          ade  ̣́n           fried\n",
       "11            adidun          stingy\n",
       "12             afán             gun\n",
       "13  afo  ̣̀máyàsé           bluff"
      ],
      "text/html": [
       "<div>\n",
       "<style scoped>\n",
       "    .dataframe tbody tr th:only-of-type {\n",
       "        vertical-align: middle;\n",
       "    }\n",
       "\n",
       "    .dataframe tbody tr th {\n",
       "        vertical-align: top;\n",
       "    }\n",
       "\n",
       "    .dataframe thead th {\n",
       "        text-align: right;\n",
       "    }\n",
       "</style>\n",
       "<table border=\"1\" class=\"dataframe\">\n",
       "  <thead>\n",
       "    <tr style=\"text-align: right;\">\n",
       "      <th></th>\n",
       "      <th>Local Word</th>\n",
       "      <th>English Meaning</th>\n",
       "    </tr>\n",
       "  </thead>\n",
       "  <tbody>\n",
       "    <tr>\n",
       "      <th>0</th>\n",
       "      <td>ababe</td>\n",
       "      <td>poison</td>\n",
       "    </tr>\n",
       "    <tr>\n",
       "      <th>1</th>\n",
       "      <td>ábe  ̣́</td>\n",
       "      <td>below</td>\n",
       "    </tr>\n",
       "    <tr>\n",
       "      <th>2</th>\n",
       "      <td>ábe  ̣́</td>\n",
       "      <td>bottom</td>\n",
       "    </tr>\n",
       "    <tr>\n",
       "      <th>3</th>\n",
       "      <td>àbéké</td>\n",
       "      <td>knife</td>\n",
       "    </tr>\n",
       "    <tr>\n",
       "      <th>4</th>\n",
       "      <td>abọrọkpọ</td>\n",
       "      <td>spinning wheel</td>\n",
       "    </tr>\n",
       "    <tr>\n",
       "      <th>5</th>\n",
       "      <td>abo  ̣́wo  ̣́</td>\n",
       "      <td>armpit</td>\n",
       "    </tr>\n",
       "    <tr>\n",
       "      <th>6</th>\n",
       "      <td>àdá</td>\n",
       "      <td>hatchet</td>\n",
       "    </tr>\n",
       "    <tr>\n",
       "      <th>6</th>\n",
       "      <td>àdá</td>\n",
       "      <td>sword</td>\n",
       "    </tr>\n",
       "    <tr>\n",
       "      <th>7</th>\n",
       "      <td>adan</td>\n",
       "      <td>bat</td>\n",
       "    </tr>\n",
       "    <tr>\n",
       "      <th>8</th>\n",
       "      <td>adé</td>\n",
       "      <td>crown</td>\n",
       "    </tr>\n",
       "    <tr>\n",
       "      <th>9</th>\n",
       "      <td>adele</td>\n",
       "      <td>house lizard</td>\n",
       "    </tr>\n",
       "    <tr>\n",
       "      <th>10</th>\n",
       "      <td>ade  ̣́n</td>\n",
       "      <td>fried</td>\n",
       "    </tr>\n",
       "    <tr>\n",
       "      <th>11</th>\n",
       "      <td>adidun</td>\n",
       "      <td>stingy</td>\n",
       "    </tr>\n",
       "    <tr>\n",
       "      <th>12</th>\n",
       "      <td>afán</td>\n",
       "      <td>gun</td>\n",
       "    </tr>\n",
       "    <tr>\n",
       "      <th>13</th>\n",
       "      <td>afo  ̣̀máyàsé</td>\n",
       "      <td>bluff</td>\n",
       "    </tr>\n",
       "  </tbody>\n",
       "</table>\n",
       "</div>"
      ]
     },
     "execution_count": 272,
     "metadata": {},
     "output_type": "execute_result"
    }
   ],
   "execution_count": 272
  },
  {
   "metadata": {},
   "cell_type": "markdown",
   "source": "Check for Language Consistency",
   "id": "f6b409db40bfcec0"
  },
  {
   "metadata": {
    "ExecuteTime": {
     "end_time": "2025-08-05T11:51:55.969910Z",
     "start_time": "2025-08-05T11:51:55.820179Z"
    }
   },
   "cell_type": "code",
   "source": [
    "# Import the Natural Language Toolkit and the English word list\n",
    "import nltk\n",
    "from nltk.corpus import words\n",
    "\n",
    "# Download the word list\n",
    "nltk.download('words')\n",
    "\n",
    "# Create a set of valid English words for fast lookup\n",
    "english_vocab = set(words.words())\n",
    "\n",
    "# Define a function to check if a given word is not in the English word list\n",
    "def is_misspelled(word):\n",
    "    return str(word).lower() not in english_vocab\n",
    "\n",
    "# Apply the misspelling check across the \"English Meaning\" column\n",
    "# Count how many words are not recognized as valid English\n",
    "misspelled_count = df_expanded[\"English Meaning\"].apply(is_misspelled).sum()\n",
    "\n",
    "# Display the total number of misspelled or unrecognized English words\n",
    "print(\"Number of badly spelled words:\", misspelled_count)"
   ],
   "id": "a895c7a9b38f0676",
   "outputs": [
    {
     "name": "stdout",
     "output_type": "stream",
     "text": [
      "Number of badly spelled words: 181\n"
     ]
    },
    {
     "name": "stderr",
     "output_type": "stream",
     "text": [
      "[nltk_data] Downloading package words to\n",
      "[nltk_data]     C:\\Users\\Emigb\\AppData\\Roaming\\nltk_data...\n",
      "[nltk_data]   Package words is already up-to-date!\n"
     ]
    }
   ],
   "execution_count": 273
  },
  {
   "metadata": {
    "ExecuteTime": {
     "end_time": "2025-08-05T11:51:55.996527Z",
     "start_time": "2025-08-05T11:51:55.982526Z"
    }
   },
   "cell_type": "code",
   "source": [
    "# Identify and extract all misspelled words from the \"English Meaning\" column.\n",
    "misspelled_words = df_expanded[\"English Meaning\"][df_expanded[\"English Meaning\"].apply(is_misspelled)]\n",
    "\n",
    "# Convert to lowercase, remove any missing values (NaN), and eliminate duplicates.\n",
    "unique_misspelled = misspelled_words.dropna().str.lower().unique()\n",
    "\n",
    "# Convert the result to a list and print it for easier viewing.\n",
    "print(list(unique_misspelled))\n"
   ],
   "id": "361dce6813a83c91",
   "outputs": [
    {
     "name": "stdout",
     "output_type": "stream",
     "text": [
      "['spinning wheel', 'house lizard', 'bawdy', 'horriplate', 'for storage', 'fish basket', 'horn pipe', \"adam's apple\", 'in law', 'brother-in-law', 'old age', 'weaver bird', 'bee wax', 'sole of foot', 'palm of hand', 'cauldron', 'wooden plank', 'mint leaf', 'unmoveable', 'old days', 'great grandfather', 'as usual', 'etc', 'as if', 'according to', 'lessen. cháchá', 'self-defence', 'waist thread', 'half dried', 'vapour', \"coconut's oil\", 'mole rat', 'half boil', 'country people', 'clod of earth', 'hood of serpent', 'earlobe', 'tooth ache', 'body part', 'neighbour', 'fish trap of conical shape', 'centre', 'chicken egg', 'ear drum', 'embers', 'boil. ẹ́ ghó àyáká 4', 'eye ball', 'bride price', 'nook and cranny', 'palm wine', 'garden lizard', 'shop keeper', 'pick pocket', 'hunter', 'group leader', 'labourer', 'nape of the neck', 'backyard', 'day before yesterday', 'gills', 'proud', 'hunger strike', 'current of water', 'forced labour', 'distil', 'fart', 'gun powder', 'whimp', 'chicken pox', 'scabbies', 'broom stick', 'testicles', 'grain particles', 'white hair', 'cactus', 'door frame', 'palm tree', 'collar bone', 'cotton plant', 'kinsmen', 'kith and kin', 'eye lashes', 'siblings', 'lice', 'diarrhoea', 'waist chain', 'co wife', 'ghost. ire runo kan 11', 'curly hair', 'knotty hair', 'ear of corn', 'cross roads', 'childless couple', 'ancestors', 'shit', 'fish scale', 'dwelling site', 'hang', 'clear out', 'at all', 'mosquito larvae', 'big red', 'recognise', 'compare with', 'shoulder blade', 'self-respect', 'ó ne ne kòkò', 'kolanut', 'betrothed bride', 'billy goat', \"cock's comb\", 'elbow bone', 'neck bone', 'black art', 'winged ant', 'eye lid', 'intestinal parasite', 'grinding stone', 'breast milk', 'tooth twig', 'groundnut oil', 'seven hundred', 'lamp wick', 'fed up', 'fish species', 'sore foot', 'soap suds', 'husband. o kpan ekpome 28', 'offering plate', 'male child', 'adolescent (male)', 'calf of cow', 'orphan. ọmoníle ̣̀ adj. aboriginal', 'by any means', 'one hundred', 'five hundred', 'day after tomorrow', 'fore arm', 'odour', 'abide by', 'observe to', 'last rites', 'fulfil', 'lean and thin', 'sort out', 'for that reason', 'due to', 'burning sensation in the mouth', 'offence', 'buttocks', 'molar teeth', 'gourd vessel', 'burial ground', 'eye socket', 'bitter gourd', 'one with six fingers on each hand', 'liquor shop', 'sudden flight', '(n). different(ce)', 'smoking pipe', 'sugarcane', 'angling rod', 'moon beam', 'residential house', 'spider web', 'handloom', 'goat shed', 'pen for animals', 'orphanage', 'police station', 'clay house', 'box of matches', 'god(ess)', 'eye disease', 'marvellous', 'earthen pot', 'calf of leg', 'daily work', 'she goat', 'topsy-turvy', 'suffer. view publication stats']\n"
     ]
    }
   ],
   "execution_count": 274
  },
  {
   "metadata": {
    "ExecuteTime": {
     "end_time": "2025-08-05T11:51:56.035676Z",
     "start_time": "2025-08-05T11:51:56.008387Z"
    }
   },
   "cell_type": "code",
   "source": [
    "#Removing Rows where the English column contains Local words\n",
    "\n",
    "import unicodedata\n",
    "\n",
    "# Making sure all entries in the \"English Meaning\" column are treated as strings\n",
    "df['English Meaning'] = df['English Meaning'].astype(str)\n",
    "\n",
    "# Function to detect accented characters in a word\n",
    "def contains_accented(word):\n",
    "    # Decompose characters into base and accent using Unicode normalization\n",
    "    normalized = unicodedata.normalize('NFD', word)\n",
    "    # Return True if any decomposed character is a nonspacing mark (i.e., accent)\n",
    "    return any(char for char in normalized if unicodedata.category(char) == 'Mn')\n",
    "\n",
    "# Check each word in the column for accents and store result in a new column\n",
    "df_expanded['has_accented'] = df_expanded['English Meaning'].apply(contains_accented)\n",
    "\n",
    "df_expanded[df_expanded['has_accented']==True]"
   ],
   "id": "1d03a7199e513ea8",
   "outputs": [
    {
     "data": {
      "text/plain": [
       "                        Local Word                       English Meaning  \\\n",
       "194                     bùwálẹ̀                      lessen. cháchá   \n",
       "347                  e  ̣́ghíghó             boil. ẹ́ ghó àyáká 4   \n",
       "1017                  núrún gede                       ó ne ne kòkò   \n",
       "1232  ọmómàne  ̣́bámàne  ̣́ye  orphan. ọmoníle ̣̀ adj. aboriginal   \n",
       "\n",
       "      has_accented  \n",
       "194           True  \n",
       "347           True  \n",
       "1017          True  \n",
       "1232          True  "
      ],
      "text/html": [
       "<div>\n",
       "<style scoped>\n",
       "    .dataframe tbody tr th:only-of-type {\n",
       "        vertical-align: middle;\n",
       "    }\n",
       "\n",
       "    .dataframe tbody tr th {\n",
       "        vertical-align: top;\n",
       "    }\n",
       "\n",
       "    .dataframe thead th {\n",
       "        text-align: right;\n",
       "    }\n",
       "</style>\n",
       "<table border=\"1\" class=\"dataframe\">\n",
       "  <thead>\n",
       "    <tr style=\"text-align: right;\">\n",
       "      <th></th>\n",
       "      <th>Local Word</th>\n",
       "      <th>English Meaning</th>\n",
       "      <th>has_accented</th>\n",
       "    </tr>\n",
       "  </thead>\n",
       "  <tbody>\n",
       "    <tr>\n",
       "      <th>194</th>\n",
       "      <td>bùwálẹ̀</td>\n",
       "      <td>lessen. cháchá</td>\n",
       "      <td>True</td>\n",
       "    </tr>\n",
       "    <tr>\n",
       "      <th>347</th>\n",
       "      <td>e  ̣́ghíghó</td>\n",
       "      <td>boil. ẹ́ ghó àyáká 4</td>\n",
       "      <td>True</td>\n",
       "    </tr>\n",
       "    <tr>\n",
       "      <th>1017</th>\n",
       "      <td>núrún gede</td>\n",
       "      <td>ó ne ne kòkò</td>\n",
       "      <td>True</td>\n",
       "    </tr>\n",
       "    <tr>\n",
       "      <th>1232</th>\n",
       "      <td>ọmómàne  ̣́bámàne  ̣́ye</td>\n",
       "      <td>orphan. ọmoníle ̣̀ adj. aboriginal</td>\n",
       "      <td>True</td>\n",
       "    </tr>\n",
       "  </tbody>\n",
       "</table>\n",
       "</div>"
      ]
     },
     "execution_count": 275,
     "metadata": {},
     "output_type": "execute_result"
    }
   ],
   "execution_count": 275
  },
  {
   "metadata": {
    "ExecuteTime": {
     "end_time": "2025-08-05T11:51:56.076549Z",
     "start_time": "2025-08-05T11:51:56.055043Z"
    }
   },
   "cell_type": "code",
   "source": [
    "# Removing all rows where an accented character was found\n",
    "df_cleaned = df_expanded[~df_expanded['has_accented']].copy()\n",
    "\n",
    "#Making sure all accented characters have been cleaned from the\n",
    "df_cleaned[df_cleaned['has_accented']==True]"
   ],
   "id": "6b6ddcc53149dcac",
   "outputs": [
    {
     "data": {
      "text/plain": [
       "Empty DataFrame\n",
       "Columns: [Local Word, English Meaning, has_accented]\n",
       "Index: []"
      ],
      "text/html": [
       "<div>\n",
       "<style scoped>\n",
       "    .dataframe tbody tr th:only-of-type {\n",
       "        vertical-align: middle;\n",
       "    }\n",
       "\n",
       "    .dataframe tbody tr th {\n",
       "        vertical-align: top;\n",
       "    }\n",
       "\n",
       "    .dataframe thead th {\n",
       "        text-align: right;\n",
       "    }\n",
       "</style>\n",
       "<table border=\"1\" class=\"dataframe\">\n",
       "  <thead>\n",
       "    <tr style=\"text-align: right;\">\n",
       "      <th></th>\n",
       "      <th>Local Word</th>\n",
       "      <th>English Meaning</th>\n",
       "      <th>has_accented</th>\n",
       "    </tr>\n",
       "  </thead>\n",
       "  <tbody>\n",
       "  </tbody>\n",
       "</table>\n",
       "</div>"
      ]
     },
     "execution_count": 276,
     "metadata": {},
     "output_type": "execute_result"
    }
   ],
   "execution_count": 276
  },
  {
   "metadata": {
    "ExecuteTime": {
     "end_time": "2025-08-05T11:51:56.120886Z",
     "start_time": "2025-08-05T11:51:56.110763Z"
    }
   },
   "cell_type": "code",
   "source": "df_cleaned['English Meaning'] = df_cleaned['English Meaning'].str.lower()",
   "id": "764a26121fd7460c",
   "outputs": [],
   "execution_count": 277
  },
  {
   "metadata": {
    "ExecuteTime": {
     "end_time": "2025-08-05T11:51:56.146832Z",
     "start_time": "2025-08-05T11:51:56.135344Z"
    }
   },
   "cell_type": "code",
   "source": [
    "# Drop the temporary helper column and reset row index\n",
    "df_cleaned.drop(columns=['has_accented'], inplace=True)\n",
    "df_cleaned.reset_index(drop=True, inplace=True)"
   ],
   "id": "b22080fcc219afef",
   "outputs": [],
   "execution_count": 278
  },
  {
   "metadata": {
    "ExecuteTime": {
     "end_time": "2025-08-05T11:51:56.166695Z",
     "start_time": "2025-08-05T11:51:56.157004Z"
    }
   },
   "cell_type": "code",
   "source": [
    "# Display the first few cleaned records\n",
    "print(df_cleaned.head())"
   ],
   "id": "7c7b4a3aafd7c7d",
   "outputs": [
    {
     "name": "stdout",
     "output_type": "stream",
     "text": [
      "    Local Word English Meaning\n",
      "0        ababe          poison\n",
      "1     ábe  ̣́           below\n",
      "2     ábe  ̣́          bottom\n",
      "3     àbéké           knife\n",
      "4  abọrọkpọ  spinning wheel\n"
     ]
    }
   ],
   "execution_count": 279
  },
  {
   "metadata": {},
   "cell_type": "markdown",
   "source": " Export Cleaned and Validated Data",
   "id": "49123879c349d816"
  },
  {
   "metadata": {
    "ExecuteTime": {
     "end_time": "2025-08-05T11:51:56.196681Z",
     "start_time": "2025-08-05T11:51:56.182356Z"
    }
   },
   "cell_type": "code",
   "source": "df_cleaned.to_csv(\"olukumi_validated_copy.csv\", index=False)",
   "id": "d473f48ce3cd2778",
   "outputs": [],
   "execution_count": 280
  }
 ],
 "metadata": {
  "kernelspec": {
   "display_name": "Python 3",
   "language": "python",
   "name": "python3"
  },
  "language_info": {
   "codemirror_mode": {
    "name": "ipython",
    "version": 2
   },
   "file_extension": ".py",
   "mimetype": "text/x-python",
   "name": "python",
   "nbconvert_exporter": "python",
   "pygments_lexer": "ipython2",
   "version": "2.7.6"
  }
 },
 "nbformat": 4,
 "nbformat_minor": 5
}
